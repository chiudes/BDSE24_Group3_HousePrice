{
 "cells": [
  {
   "cell_type": "code",
   "execution_count": 8,
   "id": "75432612",
   "metadata": {},
   "outputs": [],
   "source": [
    "import pandas as pd\n",
    "import glob\n",
    "files = [\"C:/Users/Student/雙北人口/popm台北.csv\"]+[\"C:/Users/Student/雙北人口/popm新北.csv\"]\n",
    "popm = pd.concat((pd.read_csv(f) for f in files),ignore_index=True)"
   ]
  },
  {
   "cell_type": "code",
   "execution_count": 16,
   "id": "817bdf35",
   "metadata": {},
   "outputs": [],
   "source": [
    "popm=popm.drop(columns=['Unnamed: 0'])"
   ]
  },
  {
   "cell_type": "code",
   "execution_count": 18,
   "id": "31cb1670",
   "metadata": {},
   "outputs": [],
   "source": [
    "popm.to_csv('./popm.csv',index=None)"
   ]
  }
 ],
 "metadata": {
  "kernelspec": {
   "display_name": "Python 3 (ipykernel)",
   "language": "python",
   "name": "python3"
  },
  "language_info": {
   "codemirror_mode": {
    "name": "ipython",
    "version": 3
   },
   "file_extension": ".py",
   "mimetype": "text/x-python",
   "name": "python",
   "nbconvert_exporter": "python",
   "pygments_lexer": "ipython3",
   "version": "3.9.12"
  }
 },
 "nbformat": 4,
 "nbformat_minor": 5
}
