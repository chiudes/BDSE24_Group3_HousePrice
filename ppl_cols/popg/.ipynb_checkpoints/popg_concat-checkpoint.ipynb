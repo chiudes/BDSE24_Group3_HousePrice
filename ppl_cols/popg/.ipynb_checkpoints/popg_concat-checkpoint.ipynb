{
 "cells": [
  {
   "cell_type": "code",
   "execution_count": 56,
   "id": "e733321d",
   "metadata": {},
   "outputs": [],
   "source": [
    "import pandas as pd\n",
    "files=['tai_g.csv','ntai_g.csv']\n",
    "n=pd.read_csv('ntai_g.csv')\n",
    "t=pd.read_csv('tai_g.csv')"
   ]
  },
  {
   "cell_type": "code",
   "execution_count": 69,
   "id": "a388f074",
   "metadata": {},
   "outputs": [
    {
     "data": {
      "text/html": [
       "<div>\n",
       "<style scoped>\n",
       "    .dataframe tbody tr th:only-of-type {\n",
       "        vertical-align: middle;\n",
       "    }\n",
       "\n",
       "    .dataframe tbody tr th {\n",
       "        vertical-align: top;\n",
       "    }\n",
       "\n",
       "    .dataframe thead th {\n",
       "        text-align: right;\n",
       "    }\n",
       "</style>\n",
       "<table border=\"1\" class=\"dataframe\">\n",
       "  <thead>\n",
       "    <tr style=\"text-align: right;\">\n",
       "      <th></th>\n",
       "      <th>index</th>\n",
       "      <th>Unnamed: 0</th>\n",
       "      <th>district</th>\n",
       "      <th>date</th>\n",
       "      <th>growth</th>\n",
       "      <th>g_ave</th>\n",
       "      <th>g_rate</th>\n",
       "    </tr>\n",
       "  </thead>\n",
       "  <tbody>\n",
       "    <tr>\n",
       "      <th>2</th>\n",
       "      <td>2</td>\n",
       "      <td>6</td>\n",
       "      <td>中山</td>\n",
       "      <td>102</td>\n",
       "      <td>1716</td>\n",
       "      <td>227895.0</td>\n",
       "      <td>0.007530</td>\n",
       "    </tr>\n",
       "    <tr>\n",
       "      <th>3</th>\n",
       "      <td>3</td>\n",
       "      <td>6</td>\n",
       "      <td>中山</td>\n",
       "      <td>103</td>\n",
       "      <td>1570</td>\n",
       "      <td>229711.0</td>\n",
       "      <td>0.006835</td>\n",
       "    </tr>\n",
       "    <tr>\n",
       "      <th>4</th>\n",
       "      <td>4</td>\n",
       "      <td>6</td>\n",
       "      <td>中山</td>\n",
       "      <td>104</td>\n",
       "      <td>517</td>\n",
       "      <td>231091.5</td>\n",
       "      <td>0.002237</td>\n",
       "    </tr>\n",
       "    <tr>\n",
       "      <th>5</th>\n",
       "      <td>5</td>\n",
       "      <td>6</td>\n",
       "      <td>中山</td>\n",
       "      <td>105</td>\n",
       "      <td>-39</td>\n",
       "      <td>231266.5</td>\n",
       "      <td>-0.000169</td>\n",
       "    </tr>\n",
       "    <tr>\n",
       "      <th>6</th>\n",
       "      <td>6</td>\n",
       "      <td>6</td>\n",
       "      <td>中山</td>\n",
       "      <td>106</td>\n",
       "      <td>-622</td>\n",
       "      <td>231021.0</td>\n",
       "      <td>-0.002692</td>\n",
       "    </tr>\n",
       "    <tr>\n",
       "      <th>...</th>\n",
       "      <td>...</td>\n",
       "      <td>...</td>\n",
       "      <td>...</td>\n",
       "      <td>...</td>\n",
       "      <td>...</td>\n",
       "      <td>...</td>\n",
       "      <td>...</td>\n",
       "    </tr>\n",
       "    <tr>\n",
       "      <th>127</th>\n",
       "      <td>127</td>\n",
       "      <td>9</td>\n",
       "      <td>萬華</td>\n",
       "      <td>106</td>\n",
       "      <td>-1565</td>\n",
       "      <td>192632.5</td>\n",
       "      <td>-0.008124</td>\n",
       "    </tr>\n",
       "    <tr>\n",
       "      <th>128</th>\n",
       "      <td>128</td>\n",
       "      <td>9</td>\n",
       "      <td>萬華</td>\n",
       "      <td>107</td>\n",
       "      <td>-2144</td>\n",
       "      <td>190675.0</td>\n",
       "      <td>-0.011244</td>\n",
       "    </tr>\n",
       "    <tr>\n",
       "      <th>129</th>\n",
       "      <td>129</td>\n",
       "      <td>9</td>\n",
       "      <td>萬華</td>\n",
       "      <td>108</td>\n",
       "      <td>-2311</td>\n",
       "      <td>188231.5</td>\n",
       "      <td>-0.012277</td>\n",
       "    </tr>\n",
       "    <tr>\n",
       "      <th>130</th>\n",
       "      <td>130</td>\n",
       "      <td>9</td>\n",
       "      <td>萬華</td>\n",
       "      <td>109</td>\n",
       "      <td>-3760</td>\n",
       "      <td>184968.0</td>\n",
       "      <td>-0.020328</td>\n",
       "    </tr>\n",
       "    <tr>\n",
       "      <th>131</th>\n",
       "      <td>131</td>\n",
       "      <td>9</td>\n",
       "      <td>萬華</td>\n",
       "      <td>110</td>\n",
       "      <td>-6008</td>\n",
       "      <td>179621.0</td>\n",
       "      <td>-0.033448</td>\n",
       "    </tr>\n",
       "  </tbody>\n",
       "</table>\n",
       "<p>108 rows × 7 columns</p>\n",
       "</div>"
      ],
      "text/plain": [
       "     index  Unnamed: 0 district  date  growth     g_ave    g_rate\n",
       "2        2           6       中山   102    1716  227895.0  0.007530\n",
       "3        3           6       中山   103    1570  229711.0  0.006835\n",
       "4        4           6       中山   104     517  231091.5  0.002237\n",
       "5        5           6       中山   105     -39  231266.5 -0.000169\n",
       "6        6           6       中山   106    -622  231021.0 -0.002692\n",
       "..     ...         ...      ...   ...     ...       ...       ...\n",
       "127    127           9       萬華   106   -1565  192632.5 -0.008124\n",
       "128    128           9       萬華   107   -2144  190675.0 -0.011244\n",
       "129    129           9       萬華   108   -2311  188231.5 -0.012277\n",
       "130    130           9       萬華   109   -3760  184968.0 -0.020328\n",
       "131    131           9       萬華   110   -6008  179621.0 -0.033448\n",
       "\n",
       "[108 rows x 7 columns]"
      ]
     },
     "execution_count": 69,
     "metadata": {},
     "output_type": "execute_result"
    }
   ],
   "source": [
    "t"
   ]
  },
  {
   "cell_type": "code",
   "execution_count": 68,
   "id": "5e58b0c7",
   "metadata": {
    "scrolled": true
   },
   "outputs": [],
   "source": [
    "# clean cols\n",
    "t=t.drop(t[t['date']<102].index)\n",
    "t=t.drop(columns=['population','Month','prev_pop'])\n",
    "\n",
    "n=n.drop(n[n['date']<102].index)"
   ]
  },
  {
   "cell_type": "code",
   "execution_count": 77,
   "id": "0e3b7f0b",
   "metadata": {},
   "outputs": [],
   "source": [
    "popg=pd.concat([n,t])"
   ]
  },
  {
   "cell_type": "code",
   "execution_count": 78,
   "id": "96132a0f",
   "metadata": {},
   "outputs": [
    {
     "data": {
      "text/plain": [
       "(369, 7)"
      ]
     },
     "execution_count": 78,
     "metadata": {},
     "output_type": "execute_result"
    }
   ],
   "source": [
    "popg.shape"
   ]
  },
  {
   "cell_type": "code",
   "execution_count": 91,
   "id": "03d1e897",
   "metadata": {},
   "outputs": [],
   "source": [
    "popg=popg[['date','district','growth','g_ave','g_rate']]"
   ]
  },
  {
   "cell_type": "code",
   "execution_count": 94,
   "id": "8f76b38b",
   "metadata": {},
   "outputs": [],
   "source": [
    "popg.to_csv('../cleaned_data/popg.csv',index=False)"
   ]
  }
 ],
 "metadata": {
  "kernelspec": {
   "display_name": "Python [conda env:root] *",
   "language": "python",
   "name": "conda-root-py"
  },
  "language_info": {
   "codemirror_mode": {
    "name": "ipython",
    "version": 3
   },
   "file_extension": ".py",
   "mimetype": "text/x-python",
   "name": "python",
   "nbconvert_exporter": "python",
   "pygments_lexer": "ipython3",
   "version": "3.9.12"
  }
 },
 "nbformat": 4,
 "nbformat_minor": 5
}
