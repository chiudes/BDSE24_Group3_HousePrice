{
 "cells": [
  {
   "cell_type": "code",
   "execution_count": 2,
   "id": "5cd07057-d58d-4eab-9ff4-c7ddbd129c50",
   "metadata": {},
   "outputs": [
    {
     "name": "stderr",
     "output_type": "stream",
     "text": [
      "WARNING:root:'PYARROW_IGNORE_TIMEZONE' environment variable was not set. It is required to set this environment variable to '1' in both driver and executor sides if you use pyarrow>=2.0.0. pandas-on-Spark will set it for you but it does not work if there is a Spark context already launched.\n"
     ]
    }
   ],
   "source": [
    "import pandas as pd\n",
    "import numpy as np\n",
    "import pyspark.pandas as ps\n",
    "import os\n",
    "from pyspark import SparkConf, SparkContext\n",
    "from pyspark.sql import SparkSession\n",
    "import pyspark.sql.functions as fn\n",
    "from sklearn import preprocessing\n",
    "\n",
    "from pyspark.ml.classification import LogisticRegression\n",
    "from pyspark.mllib.tree import RandomForest\n",
    "from pyspark.ml.feature import HashingTF , Tokenizer\n",
    "from pyspark.ml import Pipeline\n",
    "\n",
    "import findspark\n",
    "findspark.init('/opt/spark-3.2.1-bin-hadoop3.2/')"
   ]
  },
  {
   "cell_type": "code",
   "execution_count": 3,
   "id": "fb7de811-30d4-4551-b3ac-caee015702a2",
   "metadata": {},
   "outputs": [
    {
     "name": "stderr",
     "output_type": "stream",
     "text": [
      "Setting default log level to \"WARN\".\n",
      "To adjust logging level use sc.setLogLevel(newLevel). For SparkR, use setLogLevel(newLevel).\n",
      "2022-06-01 09:25:15,887 WARN util.NativeCodeLoader: Unable to load native-hadoop library for your platform... using builtin-java classes where applicable\n"
     ]
    }
   ],
   "source": [
    "# yarn mode\n",
    "spark = SparkSession\\\n",
    "        .builder\\\n",
    "        .master(\"yarn\")\\\n",
    "        .config('spark.executor.instances','18')\\\n",
    "        .config('spark.executor.memory','8G')\\\n",
    "        .appName(\"iv\")\\\n",
    "        .getOrCreate()"
   ]
  },
  {
   "cell_type": "code",
   "execution_count": 4,
   "id": "85945e89-9fe3-4842-ac94-1907f046c0f0",
   "metadata": {},
   "outputs": [
    {
     "data": {
      "text/html": [
       "\n",
       "            <div>\n",
       "                <p><b>SparkSession - in-memory</b></p>\n",
       "                \n",
       "        <div>\n",
       "            <p><b>SparkContext</b></p>\n",
       "\n",
       "            <p><a href=\"http://bdse81.example.com:4040\">Spark UI</a></p>\n",
       "\n",
       "            <dl>\n",
       "              <dt>Version</dt>\n",
       "                <dd><code>v3.2.1</code></dd>\n",
       "              <dt>Master</dt>\n",
       "                <dd><code>yarn</code></dd>\n",
       "              <dt>AppName</dt>\n",
       "                <dd><code>iv</code></dd>\n",
       "            </dl>\n",
       "        </div>\n",
       "        \n",
       "            </div>\n",
       "        "
      ],
      "text/plain": [
       "<pyspark.sql.session.SparkSession at 0x7feed71130a0>"
      ]
     },
     "execution_count": 4,
     "metadata": {},
     "output_type": "execute_result"
    }
   ],
   "source": [
    "spark"
   ]
  },
  {
   "cell_type": "code",
   "execution_count": 5,
   "id": "a636f8e3-830d-40c7-b797-af2a6a4f30d5",
   "metadata": {},
   "outputs": [],
   "source": [
    "spark.conf.set(\"spark.sql.execution.arrow.pyscpark.enabled\", True)\n",
    "\n",
    "os.environ[\"PYARROW_IGNORE_TIMEZONE\"] = \"1\"\n",
    "\n",
    "ps.set_option(\"compute.default_index_type\", \"distributed\")"
   ]
  },
  {
   "cell_type": "markdown",
   "id": "2200ead0-7193-4125-9da4-80b2d44cd942",
   "metadata": {},
   "source": [
    "---"
   ]
  },
  {
   "cell_type": "markdown",
   "id": "e10caa33-871c-43bf-9c0c-7d7259d55574",
   "metadata": {
    "tags": []
   },
   "source": [
    "# pandas dataframe to spark-dataframe"
   ]
  },
  {
   "cell_type": "code",
   "execution_count": 32,
   "id": "12fed16e-74c2-4d61-bccd-eae3d130aa77",
   "metadata": {},
   "outputs": [
    {
     "name": "stderr",
     "output_type": "stream",
     "text": [
      "[Stage 37:===============================>                        (10 + 3) / 18]\r"
     ]
    },
    {
     "name": "stdout",
     "output_type": "stream",
     "text": [
      "root\n",
      " |-- address: string (nullable = true)\n",
      " |-- style: string (nullable = true)\n",
      " |-- percent: double (nullable = true)\n",
      " |-- district: string (nullable = true)\n",
      " |-- parking_price: double (nullable = true)\n",
      " |-- date: integer (nullable = true)\n",
      " |-- floor: integer (nullable = true)\n",
      " |-- age: double (nullable = true)\n",
      " |-- latitude: double (nullable = true)\n",
      " |-- longitude: double (nullable = true)\n",
      " |-- management: integer (nullable = true)\n",
      " |-- size: double (nullable = true)\n",
      " |-- total_price: double (nullable = true)\n",
      " |-- room: integer (nullable = true)\n",
      " |-- living: integer (nullable = true)\n",
      " |-- bath: integer (nullable = true)\n",
      " |-- avg: double (nullable = true)\n",
      "\n"
     ]
    },
    {
     "name": "stderr",
     "output_type": "stream",
     "text": [
      "                                                                                \r"
     ]
    }
   ],
   "source": [
    "df = spark.read.csv('1_taipei_purged.csv', header = True, inferSchema = True)\n",
    "df.printSchema()"
   ]
  },
  {
   "cell_type": "code",
   "execution_count": 33,
   "id": "66d8f67e-87a8-4a13-b3f3-5443bd76019e",
   "metadata": {},
   "outputs": [
    {
     "name": "stdout",
     "output_type": "stream",
     "text": [
      "(486774, 17)\n"
     ]
    }
   ],
   "source": [
    "print((df.count(), len(df.columns)))"
   ]
  },
  {
   "cell_type": "code",
   "execution_count": 34,
   "id": "fabb4d8a-b4af-4a3e-8bae-72a6aa95571a",
   "metadata": {},
   "outputs": [],
   "source": [
    "df = df.drop('district', 'avg', 'style', 'address')"
   ]
  },
  {
   "cell_type": "code",
   "execution_count": 35,
   "id": "55d4b890-2d85-40ae-a644-9c21a742ee18",
   "metadata": {},
   "outputs": [
    {
     "name": "stdout",
     "output_type": "stream",
     "text": [
      "root\n",
      " |-- percent: double (nullable = true)\n",
      " |-- parking_price: double (nullable = true)\n",
      " |-- date: integer (nullable = true)\n",
      " |-- floor: integer (nullable = true)\n",
      " |-- age: double (nullable = true)\n",
      " |-- latitude: double (nullable = true)\n",
      " |-- longitude: double (nullable = true)\n",
      " |-- management: integer (nullable = true)\n",
      " |-- size: double (nullable = true)\n",
      " |-- total_price: double (nullable = true)\n",
      " |-- room: integer (nullable = true)\n",
      " |-- living: integer (nullable = true)\n",
      " |-- bath: integer (nullable = true)\n",
      "\n"
     ]
    }
   ],
   "source": [
    "df.printSchema()"
   ]
  },
  {
   "cell_type": "code",
   "execution_count": 36,
   "id": "6428820b-1f5d-4dc0-9058-fbfa7802eaa2",
   "metadata": {},
   "outputs": [
    {
     "name": "stderr",
     "output_type": "stream",
     "text": [
      "                                                                                \r"
     ]
    },
    {
     "data": {
      "text/html": [
       "<div>\n",
       "<style scoped>\n",
       "    .dataframe tbody tr th:only-of-type {\n",
       "        vertical-align: middle;\n",
       "    }\n",
       "\n",
       "    .dataframe tbody tr th {\n",
       "        vertical-align: top;\n",
       "    }\n",
       "\n",
       "    .dataframe thead th {\n",
       "        text-align: right;\n",
       "    }\n",
       "</style>\n",
       "<table border=\"1\" class=\"dataframe\">\n",
       "  <thead>\n",
       "    <tr style=\"text-align: right;\">\n",
       "      <th></th>\n",
       "      <th>0</th>\n",
       "      <th>1</th>\n",
       "      <th>2</th>\n",
       "      <th>3</th>\n",
       "      <th>4</th>\n",
       "    </tr>\n",
       "  </thead>\n",
       "  <tbody>\n",
       "    <tr>\n",
       "      <th>summary</th>\n",
       "      <td>count</td>\n",
       "      <td>mean</td>\n",
       "      <td>stddev</td>\n",
       "      <td>min</td>\n",
       "      <td>max</td>\n",
       "    </tr>\n",
       "    <tr>\n",
       "      <th>percent</th>\n",
       "      <td>486774</td>\n",
       "      <td>63.30324996815774</td>\n",
       "      <td>19.80554113947344</td>\n",
       "      <td>0.0</td>\n",
       "      <td>100.0</td>\n",
       "    </tr>\n",
       "    <tr>\n",
       "      <th>parking_price</th>\n",
       "      <td>486774</td>\n",
       "      <td>43.53548874837193</td>\n",
       "      <td>106.11649419483994</td>\n",
       "      <td>0.0</td>\n",
       "      <td>19720.0</td>\n",
       "    </tr>\n",
       "    <tr>\n",
       "      <th>date</th>\n",
       "      <td>486774</td>\n",
       "      <td>201697.78076479022</td>\n",
       "      <td>277.6166137983045</td>\n",
       "      <td>201301</td>\n",
       "      <td>202112</td>\n",
       "    </tr>\n",
       "    <tr>\n",
       "      <th>floor</th>\n",
       "      <td>486774</td>\n",
       "      <td>6.901668946985665</td>\n",
       "      <td>5.1604540850357195</td>\n",
       "      <td>1</td>\n",
       "      <td>45</td>\n",
       "    </tr>\n",
       "    <tr>\n",
       "      <th>age</th>\n",
       "      <td>486774</td>\n",
       "      <td>15.458083217263042</td>\n",
       "      <td>14.662437326941834</td>\n",
       "      <td>0.0</td>\n",
       "      <td>88.0</td>\n",
       "    </tr>\n",
       "    <tr>\n",
       "      <th>latitude</th>\n",
       "      <td>486774</td>\n",
       "      <td>25.04942000155616</td>\n",
       "      <td>0.0825757280634249</td>\n",
       "      <td>0.0</td>\n",
       "      <td>25.29294802135113</td>\n",
       "    </tr>\n",
       "    <tr>\n",
       "      <th>longitude</th>\n",
       "      <td>486774</td>\n",
       "      <td>121.49138015480173</td>\n",
       "      <td>0.2570793573066798</td>\n",
       "      <td>0.0</td>\n",
       "      <td>121.92797110266169</td>\n",
       "    </tr>\n",
       "    <tr>\n",
       "      <th>management</th>\n",
       "      <td>486774</td>\n",
       "      <td>0.7030531622477783</td>\n",
       "      <td>0.4569133858683895</td>\n",
       "      <td>0</td>\n",
       "      <td>1</td>\n",
       "    </tr>\n",
       "    <tr>\n",
       "      <th>size</th>\n",
       "      <td>486774</td>\n",
       "      <td>38.83292838154863</td>\n",
       "      <td>27.898046153454107</td>\n",
       "      <td>0.02</td>\n",
       "      <td>10738.54</td>\n",
       "    </tr>\n",
       "    <tr>\n",
       "      <th>total_price</th>\n",
       "      <td>486774</td>\n",
       "      <td>1447.6993678791391</td>\n",
       "      <td>1254.2884583911584</td>\n",
       "      <td>0.1</td>\n",
       "      <td>186978.1</td>\n",
       "    </tr>\n",
       "    <tr>\n",
       "      <th>room</th>\n",
       "      <td>486774</td>\n",
       "      <td>2.661584225944689</td>\n",
       "      <td>1.595943439322205</td>\n",
       "      <td>0</td>\n",
       "      <td>784</td>\n",
       "    </tr>\n",
       "    <tr>\n",
       "      <th>living</th>\n",
       "      <td>486774</td>\n",
       "      <td>1.6990965006347916</td>\n",
       "      <td>0.6057617935227269</td>\n",
       "      <td>0</td>\n",
       "      <td>80</td>\n",
       "    </tr>\n",
       "    <tr>\n",
       "      <th>bath</th>\n",
       "      <td>486774</td>\n",
       "      <td>1.644561952774799</td>\n",
       "      <td>1.4355494065363728</td>\n",
       "      <td>0</td>\n",
       "      <td>817</td>\n",
       "    </tr>\n",
       "  </tbody>\n",
       "</table>\n",
       "</div>"
      ],
      "text/plain": [
       "                    0                   1                   2       3  \\\n",
       "summary         count                mean              stddev     min   \n",
       "percent        486774   63.30324996815774   19.80554113947344     0.0   \n",
       "parking_price  486774   43.53548874837193  106.11649419483994     0.0   \n",
       "date           486774  201697.78076479022   277.6166137983045  201301   \n",
       "floor          486774   6.901668946985665  5.1604540850357195       1   \n",
       "age            486774  15.458083217263042  14.662437326941834     0.0   \n",
       "latitude       486774   25.04942000155616  0.0825757280634249     0.0   \n",
       "longitude      486774  121.49138015480173  0.2570793573066798     0.0   \n",
       "management     486774  0.7030531622477783  0.4569133858683895       0   \n",
       "size           486774   38.83292838154863  27.898046153454107    0.02   \n",
       "total_price    486774  1447.6993678791391  1254.2884583911584     0.1   \n",
       "room           486774   2.661584225944689   1.595943439322205       0   \n",
       "living         486774  1.6990965006347916  0.6057617935227269       0   \n",
       "bath           486774   1.644561952774799  1.4355494065363728       0   \n",
       "\n",
       "                                4  \n",
       "summary                       max  \n",
       "percent                     100.0  \n",
       "parking_price             19720.0  \n",
       "date                       202112  \n",
       "floor                          45  \n",
       "age                          88.0  \n",
       "latitude        25.29294802135113  \n",
       "longitude      121.92797110266169  \n",
       "management                      1  \n",
       "size                     10738.54  \n",
       "total_price              186978.1  \n",
       "room                          784  \n",
       "living                         80  \n",
       "bath                          817  "
      ]
     },
     "execution_count": 36,
     "metadata": {},
     "output_type": "execute_result"
    }
   ],
   "source": [
    "# show\n",
    "numeric_features = [ t[0] for t in df.dtypes ]\n",
    "df.select(numeric_features).describe().toPandas().transpose()"
   ]
  },
  {
   "cell_type": "code",
   "execution_count": 38,
   "id": "e5d69d72-220b-4d27-ae2a-a40bbda75937",
   "metadata": {},
   "outputs": [
    {
     "data": {
      "text/plain": [
       "['percent',\n",
       " 'parking_price',\n",
       " 'date',\n",
       " 'floor',\n",
       " 'age',\n",
       " 'latitude',\n",
       " 'longitude',\n",
       " 'management',\n",
       " 'size',\n",
       " 'total_price',\n",
       " 'room',\n",
       " 'living',\n",
       " 'bath']"
      ]
     },
     "execution_count": 38,
     "metadata": {},
     "output_type": "execute_result"
    }
   ],
   "source": [
    "numeric_features"
   ]
  },
  {
   "cell_type": "code",
   "execution_count": 39,
   "id": "193a3f95-b0eb-4334-b0aa-b416ee265abd",
   "metadata": {},
   "outputs": [
    {
     "name": "stdout",
     "output_type": "stream",
     "text": [
      "+-------+-------------+------+-----+----+------------------+------------------+----------+-----+-----------+----+------+----+--------------------+\n",
      "|percent|parking_price|  date|floor| age|          latitude|         longitude|management| size|total_price|room|living|bath|            features|\n",
      "+-------+-------------+------+-----+----+------------------+------------------+----------+-----+-----------+----+------+----+--------------------+\n",
      "|   63.8|          0.0|202112|    2|34.0|25.055331674864203| 121.5376145905065|         1|10.52|      876.0|   1|     1|   1|[63.8,0.0,202112....|\n",
      "|   48.9|        180.0|202112|    5| 6.0| 25.05682409251319| 121.5267584666694|         1|46.39|     3188.0|   3|     2|   1|[48.9,180.0,20211...|\n",
      "|   83.3|        500.0|202112|    7|33.0|25.055016099844707|121.53750419269846|         1|82.75|     4052.6|   3|     0|   0|[83.3,500.0,20211...|\n",
      "|   80.2|        300.0|202112|    7|33.0|25.055016099844707|121.53750419269846|         1| 85.5|     4811.7|   4|     0|   0|[80.2,300.0,20211...|\n",
      "|   70.1|          0.0|202112|    4|36.0| 25.05774237570079| 121.5249387233178|         1|28.67|     1200.0|   2|     1|   1|[70.1,0.0,202112....|\n",
      "|   43.5|        340.0|202112|    6| 0.0|25.067616867046603|121.52300830460516|         1|51.57|     3994.0|   2|     2|   2|[43.5,340.0,20211...|\n",
      "|   80.6|          0.0|202112|   12|40.0|25.063683570082755|121.52728338005475|         1| 9.26|      600.0|   1|     1|   1|[80.6,0.0,202112....|\n",
      "|   39.9|          0.0|202112|   11|12.0|25.064799132400005|121.52328378311664|         1|19.31|     1056.0|   1|     1|   1|[39.9,0.0,202112....|\n",
      "|   58.3|          0.0|202112|    9|40.0|25.055531865683083|121.52709983028392|         1|17.45|     1089.0|   2|     1|   1|[58.3,0.0,202112....|\n",
      "|   45.2|        160.0|202112|    2| 6.0| 25.05682409251319| 121.5267584666694|         1| 39.2|     2379.0|   2|     2|   1|[45.2,160.0,20211...|\n",
      "|   80.3|          0.0|202112|    5|42.0| 25.06649455259456|121.52636368971844|         1|17.52|      950.0|   2|     1|   1|[80.3,0.0,202112....|\n",
      "|   49.9|          0.0|202112|   10|21.0| 25.07861975800188|121.55833508094862|         1|47.03|     2950.0|   3|     2|   2|[49.9,0.0,202112....|\n",
      "|   76.1|          0.0|202112|    5|36.0| 25.05688266993918| 121.5430824057112|         1|34.67|     2758.0|   3|     2|   2|[76.1,0.0,202112....|\n",
      "|   75.3|          0.0|202112|    9|36.0| 25.05688266993918| 121.5430824057112|         1|11.18|      350.0|   3|     2|   1|[75.3,0.0,202112....|\n",
      "|   45.2|        180.0|202112|    6| 6.0| 25.05682409251319| 121.5267584666694|         1| 39.2|     2468.0|   2|     2|   1|[45.2,180.0,20211...|\n",
      "|   64.5|          0.0|202112|    6|25.0|25.061614921863928|121.54017936023736|         1| 46.2|     3860.0|   3|     2|   2|[64.5,0.0,202112....|\n",
      "|   53.5|          0.0|202112|    6|24.0|25.056813692480397|121.52714495775128|         1|17.15|     1050.0|   2|     1|   1|[53.5,0.0,202112....|\n",
      "|  100.0|          0.0|202112|    6|50.0|25.057157044641382|121.52706713699573|         1|12.48|      550.0|   1|     1|   1|[100.0,0.0,202112...|\n",
      "|   44.4|          0.0|202112|   12|10.0| 25.06599874875719|121.52615342095103|         1| 44.0|     2750.0|   1|     2|   1|[44.4,0.0,202112....|\n",
      "|   43.1|          0.0|202112|    7|14.0|25.083847025428263| 121.5535012687133|         1|33.96|     2419.0|   2|     2|   1|[43.1,0.0,202112....|\n",
      "+-------+-------------+------+-----+----+------------------+------------------+----------+-----+-----------+----+------+----+--------------------+\n",
      "only showing top 20 rows\n",
      "\n"
     ]
    },
    {
     "name": "stderr",
     "output_type": "stream",
     "text": [
      "2022-05-31 19:29:14,895 WARN util.package: Truncated the string representation of a plan since it was too large. This behavior can be adjusted by setting 'spark.sql.debug.maxToStringFields'.\n"
     ]
    }
   ],
   "source": [
    "from pyspark.ml.feature import VectorAssembler\n",
    "\n",
    "assembler = VectorAssembler(inputCols=numeric_features, outputCol=\"features\")\n",
    "df = assembler.transform(df)\n",
    "df.show()"
   ]
  },
  {
   "cell_type": "code",
   "execution_count": 40,
   "id": "181d839f-090a-44ba-a9eb-57c9d1d0d1cf",
   "metadata": {},
   "outputs": [
    {
     "name": "stderr",
     "output_type": "stream",
     "text": [
      "                                                                                \r"
     ]
    },
    {
     "name": "stdout",
     "output_type": "stream",
     "text": [
      "+-------+-------------+------+-----+----+------------------+------------------+----------+-----+-----------+----+------+----+--------------------+-------+\n",
      "|percent|parking_price|  date|floor| age|          latitude|         longitude|management| size|total_price|room|living|bath|            features|  label|\n",
      "+-------+-------------+------+-----+----+------------------+------------------+----------+-----+-----------+----+------+----+--------------------+-------+\n",
      "|   63.8|          0.0|202112|    2|34.0|25.055331674864203| 121.5376145905065|         1|10.52|      876.0|   1|     1|   1|[63.8,0.0,202112....|  711.0|\n",
      "|   48.9|        180.0|202112|    5| 6.0| 25.05682409251319| 121.5267584666694|         1|46.39|     3188.0|   3|     2|   1|[48.9,180.0,20211...|  782.0|\n",
      "|   83.3|        500.0|202112|    7|33.0|25.055016099844707|121.53750419269846|         1|82.75|     4052.6|   3|     0|   0|[83.3,500.0,20211...|11211.0|\n",
      "|   80.2|        300.0|202112|    7|33.0|25.055016099844707|121.53750419269846|         1| 85.5|     4811.7|   4|     0|   0|[80.2,300.0,20211...|11759.0|\n",
      "|   70.1|          0.0|202112|    4|36.0| 25.05774237570079| 121.5249387233178|         1|28.67|     1200.0|   2|     1|   1|[70.1,0.0,202112....|    1.0|\n",
      "|   43.5|        340.0|202112|    6| 0.0|25.067616867046603|121.52300830460516|         1|51.57|     3994.0|   2|     2|   2|[43.5,340.0,20211...|11168.0|\n",
      "|   80.6|          0.0|202112|   12|40.0|25.063683570082755|121.52728338005475|         1| 9.26|      600.0|   1|     1|   1|[80.6,0.0,202112....|    7.0|\n",
      "|   39.9|          0.0|202112|   11|12.0|25.064799132400005|121.52328378311664|         1|19.31|     1056.0|   1|     1|   1|[39.9,0.0,202112....|  704.0|\n",
      "|   58.3|          0.0|202112|    9|40.0|25.055531865683083|121.52709983028392|         1|17.45|     1089.0|   2|     1|   1|[58.3,0.0,202112....| 1104.0|\n",
      "|   45.2|        160.0|202112|    2| 6.0| 25.05682409251319| 121.5267584666694|         1| 39.2|     2379.0|   2|     2|   1|[45.2,160.0,20211...| 2967.0|\n",
      "|   80.3|          0.0|202112|    5|42.0| 25.06649455259456|121.52636368971844|         1|17.52|      950.0|   2|     1|   1|[80.3,0.0,202112....|   13.0|\n",
      "|   49.9|          0.0|202112|   10|21.0| 25.07861975800188|121.55833508094862|         1|47.03|     2950.0|   3|     2|   2|[49.9,0.0,202112....|  240.0|\n",
      "|   76.1|          0.0|202112|    5|36.0| 25.05688266993918| 121.5430824057112|         1|34.67|     2758.0|   3|     2|   2|[76.1,0.0,202112....| 1084.0|\n",
      "|   75.3|          0.0|202112|    9|36.0| 25.05688266993918| 121.5430824057112|         1|11.18|      350.0|   3|     2|   1|[75.3,0.0,202112....|   79.0|\n",
      "|   45.2|        180.0|202112|    6| 6.0| 25.05682409251319| 121.5267584666694|         1| 39.2|     2468.0|   2|     2|   1|[45.2,180.0,20211...|  713.0|\n",
      "|   64.5|          0.0|202112|    6|25.0|25.061614921863928|121.54017936023736|         1| 46.2|     3860.0|   3|     2|   2|[64.5,0.0,202112....| 1204.0|\n",
      "|   53.5|          0.0|202112|    6|24.0|25.056813692480397|121.52714495775128|         1|17.15|     1050.0|   2|     1|   1|[53.5,0.0,202112....|   10.0|\n",
      "|  100.0|          0.0|202112|    6|50.0|25.057157044641382|121.52706713699573|         1|12.48|      550.0|   1|     1|   1|[100.0,0.0,202112...|   25.0|\n",
      "|   44.4|          0.0|202112|   12|10.0| 25.06599874875719|121.52615342095103|         1| 44.0|     2750.0|   1|     2|   1|[44.4,0.0,202112....|  172.0|\n",
      "|   43.1|          0.0|202112|    7|14.0|25.083847025428263| 121.5535012687133|         1|33.96|     2419.0|   2|     2|   1|[43.1,0.0,202112....| 4654.0|\n",
      "+-------+-------------+------+-----+----+------------------+------------------+----------+-----+-----------+----+------+----+--------------------+-------+\n",
      "only showing top 20 rows\n",
      "\n"
     ]
    }
   ],
   "source": [
    "from pyspark.ml.feature import StringIndexer\n",
    "\n",
    "label_stringIdx = StringIndexer(inputCol = 'total_price', outputCol = 'label')\n",
    "df = label_stringIdx.fit(df).transform(df)\n",
    "df.show()"
   ]
  },
  {
   "cell_type": "markdown",
   "id": "645b1540-5c69-420d-adf2-0e8a5ef3a9b9",
   "metadata": {},
   "source": [
    "# Random Forest"
   ]
  },
  {
   "cell_type": "code",
   "execution_count": 6,
   "id": "bec15457-2110-4ab0-ae13-daeb0e0beef6",
   "metadata": {},
   "outputs": [],
   "source": [
    "from pyspark.ml.regression import RandomForestRegressor\n",
    "from pyspark.ml.evaluation import RegressionEvaluator\n",
    "from pyspark.ml.tuning import ParamGridBuilder, CrossValidator\n",
    "from pyspark.ml.feature import StringIndexer\n",
    "from pyspark.ml.feature import VectorAssembler"
   ]
  },
  {
   "cell_type": "code",
   "execution_count": 7,
   "id": "9448fd64-ac03-47ff-9306-35fe96f15472",
   "metadata": {
    "tags": []
   },
   "outputs": [
    {
     "name": "stderr",
     "output_type": "stream",
     "text": [
      "                                                                                \r"
     ]
    }
   ],
   "source": [
    "df = spark.read.csv('1_taipei_purged.csv', header = True, inferSchema = True)"
   ]
  },
  {
   "cell_type": "code",
   "execution_count": 8,
   "id": "0e0e0f06-ce98-4ca0-afcd-32172591b24b",
   "metadata": {},
   "outputs": [
    {
     "name": "stdout",
     "output_type": "stream",
     "text": [
      "root\n",
      " |-- percent: double (nullable = true)\n",
      " |-- parking_price: double (nullable = true)\n",
      " |-- date: integer (nullable = true)\n",
      " |-- floor: integer (nullable = true)\n",
      " |-- age: double (nullable = true)\n",
      " |-- latitude: double (nullable = true)\n",
      " |-- longitude: double (nullable = true)\n",
      " |-- management: integer (nullable = true)\n",
      " |-- size: double (nullable = true)\n",
      " |-- total_price: double (nullable = true)\n",
      " |-- room: integer (nullable = true)\n",
      " |-- living: integer (nullable = true)\n",
      " |-- bath: integer (nullable = true)\n",
      "\n"
     ]
    }
   ],
   "source": [
    "df = df.drop('district','avg','style','address')\n",
    "df.printSchema()"
   ]
  },
  {
   "cell_type": "code",
   "execution_count": 9,
   "id": "7605c245-0688-46e9-830c-2963f5b30a6b",
   "metadata": {},
   "outputs": [],
   "source": [
    "# 移除total_price特徵\n",
    "feature_list = []\n",
    "for col in df.columns:\n",
    "    if col == 'total_price':\n",
    "        continue\n",
    "    else:\n",
    "        feature_list.append(col)\n",
    "\n",
    "# make X from feature_list which is aka features in spark\n",
    "assembler = VectorAssembler(inputCols=feature_list, outputCol=\"features\")"
   ]
  },
  {
   "cell_type": "code",
   "execution_count": 10,
   "id": "75758fa0-f40e-4bfd-8b7e-870d5477f30d",
   "metadata": {},
   "outputs": [],
   "source": [
    "# make y & X\n",
    "rf = RandomForestRegressor(labelCol=\"total_price\", featuresCol=\"features\")"
   ]
  },
  {
   "cell_type": "code",
   "execution_count": 11,
   "id": "49b25cd2-edc2-4ea9-b311-904e3cfcbf13",
   "metadata": {},
   "outputs": [],
   "source": [
    "pipeline = Pipeline(stages=[assembler, rf])"
   ]
  },
  {
   "cell_type": "code",
   "execution_count": 12,
   "id": "fcfa92aa-3b9b-4b33-9a7e-77841e353f1c",
   "metadata": {},
   "outputs": [],
   "source": [
    "# 答案\n",
    "rfevaluator = RegressionEvaluator(labelCol=\"total_price\", predictionCol=\"prediction\")\n",
    "\n",
    "# 超參數\n",
    "rfparamGrid = (ParamGridBuilder()             \n",
    "               .addGrid(rf.maxDepth, [5, 7])             \n",
    "               .addGrid(rf.maxBins, [5, 7])             \n",
    "               .addGrid(rf.numTrees, [75, 100])\n",
    "               .build())\n",
    "\n",
    "# Kfold\n",
    "rfcv = CrossValidator(estimator = pipeline,\n",
    "                      estimatorParamMaps = rfparamGrid,\n",
    "                      evaluator = rfevaluator,\n",
    "                      numFolds = 5)"
   ]
  },
  {
   "cell_type": "code",
   "execution_count": 13,
   "id": "5fb1af04-44bc-4a6a-b0ee-d64f949f9e79",
   "metadata": {},
   "outputs": [],
   "source": [
    "(trainingData, testData) = df.randomSplit([0.8, 0.2])"
   ]
  },
  {
   "cell_type": "code",
   "execution_count": 14,
   "id": "2b108ae0-ca2f-4411-a972-31573b1c8a88",
   "metadata": {
    "tags": []
   },
   "outputs": [
    {
     "name": "stderr",
     "output_type": "stream",
     "text": [
      "2022-06-01 09:28:11,181 WARN scheduler.DAGScheduler: Broadcasting large task binary with size 1488.1 KiB\n",
      "2022-06-01 09:28:37,451 WARN scheduler.DAGScheduler: Broadcasting large task binary with size 1021.2 KiB\n",
      "2022-06-01 09:28:43,651 WARN scheduler.DAGScheduler: Broadcasting large task binary with size 1954.6 KiB\n",
      "2022-06-01 09:29:12,176 WARN scheduler.DAGScheduler: Broadcasting large task binary with size 1475.8 KiB\n",
      "2022-06-01 09:29:38,639 WARN scheduler.DAGScheduler: Broadcasting large task binary with size 1016.5 KiB\n",
      "2022-06-01 09:29:44,832 WARN scheduler.DAGScheduler: Broadcasting large task binary with size 1933.8 KiB\n",
      "2022-06-01 09:31:12,414 WARN scheduler.DAGScheduler: Broadcasting large task binary with size 1488.6 KiB\n",
      "2022-06-01 09:31:34,048 WARN scheduler.DAGScheduler: Broadcasting large task binary with size 1023.6 KiB\n",
      "2022-06-01 09:31:38,943 WARN scheduler.DAGScheduler: Broadcasting large task binary with size 1960.0 KiB\n",
      "2022-06-01 09:32:02,418 WARN scheduler.DAGScheduler: Broadcasting large task binary with size 1478.9 KiB\n",
      "2022-06-01 09:32:23,761 WARN scheduler.DAGScheduler: Broadcasting large task binary with size 1014.2 KiB\n",
      "2022-06-01 09:32:28,766 WARN scheduler.DAGScheduler: Broadcasting large task binary with size 1931.0 KiB\n",
      "2022-06-01 09:34:00,344 WARN scheduler.DAGScheduler: Broadcasting large task binary with size 1492.9 KiB\n",
      "2022-06-01 09:34:23,996 WARN scheduler.DAGScheduler: Broadcasting large task binary with size 1021.6 KiB\n",
      "2022-06-01 09:34:29,678 WARN scheduler.DAGScheduler: Broadcasting large task binary with size 1952.3 KiB\n",
      "2022-06-01 09:34:54,998 WARN scheduler.DAGScheduler: Broadcasting large task binary with size 1470.4 KiB\n",
      "2022-06-01 09:35:18,224 WARN scheduler.DAGScheduler: Broadcasting large task binary with size 1012.4 KiB\n",
      "2022-06-01 09:35:23,798 WARN scheduler.DAGScheduler: Broadcasting large task binary with size 1924.8 KiB\n",
      "2022-06-01 09:37:16,654 WARN scheduler.DAGScheduler: Broadcasting large task binary with size 1486.8 KiB\n",
      "2022-06-01 09:37:43,120 WARN scheduler.DAGScheduler: Broadcasting large task binary with size 1021.7 KiB\n",
      "2022-06-01 09:37:49,245 WARN scheduler.DAGScheduler: Broadcasting large task binary with size 1955.0 KiB\n",
      "2022-06-01 09:38:18,232 WARN scheduler.DAGScheduler: Broadcasting large task binary with size 1461.6 KiB\n",
      "2022-06-01 09:38:45,229 WARN scheduler.DAGScheduler: Broadcasting large task binary with size 1016.4 KiB\n",
      "2022-06-01 09:38:51,364 WARN scheduler.DAGScheduler: Broadcasting large task binary with size 1935.1 KiB\n",
      "2022-06-01 09:40:18,063 WARN scheduler.DAGScheduler: Broadcasting large task binary with size 1486.1 KiB\n",
      "2022-06-01 09:40:39,575 WARN scheduler.DAGScheduler: Broadcasting large task binary with size 1019.4 KiB\n",
      "2022-06-01 09:40:44,529 WARN scheduler.DAGScheduler: Broadcasting large task binary with size 1946.6 KiB\n",
      "2022-06-01 09:41:08,186 WARN scheduler.DAGScheduler: Broadcasting large task binary with size 1469.5 KiB\n",
      "2022-06-01 09:41:30,378 WARN scheduler.DAGScheduler: Broadcasting large task binary with size 1012.0 KiB\n",
      "2022-06-01 09:41:35,696 WARN scheduler.DAGScheduler: Broadcasting large task binary with size 1916.6 KiB\n",
      "2022-06-01 09:42:07,993 WARN scheduler.DAGScheduler: Broadcasting large task binary with size 1910.3 KiB\n",
      "                                                                                \r"
     ]
    }
   ],
   "source": [
    "# train and get best parameter\n",
    "rfcvModel = rfcv.fit(trainingData)"
   ]
  },
  {
   "cell_type": "code",
   "execution_count": 15,
   "id": "cf63f2c4-1894-4879-b3a7-4817f1380177",
   "metadata": {},
   "outputs": [
    {
     "name": "stderr",
     "output_type": "stream",
     "text": [
      "                                                                                \r"
     ]
    },
    {
     "name": "stdout",
     "output_type": "stream",
     "text": [
      "r2: 0.5957412268034077\n"
     ]
    },
    {
     "name": "stderr",
     "output_type": "stream",
     "text": [
      "                                                                                \r"
     ]
    },
    {
     "name": "stdout",
     "output_type": "stream",
     "text": [
      "mae: 390.8947355727739\n"
     ]
    },
    {
     "name": "stderr",
     "output_type": "stream",
     "text": [
      "[Stage 744:===================================================>   (17 + 1) / 18]\r"
     ]
    },
    {
     "name": "stdout",
     "output_type": "stream",
     "text": [
      "mse: 595479.4314742828\n"
     ]
    },
    {
     "name": "stderr",
     "output_type": "stream",
     "text": [
      "                                                                                \r"
     ]
    }
   ],
   "source": [
    "# pred\n",
    "rfpredictions = rfcvModel.transform(testData)\n",
    "\n",
    "print('r2:', rfevaluator.evaluate(rfpredictions,{rfevaluator.metricName: \"r2\"}))\n",
    "print('mae:', rfevaluator.evaluate(rfpredictions,{rfevaluator.metricName: \"mae\"}))\n",
    "print('mse:', rfevaluator.evaluate(rfpredictions,{rfevaluator.metricName: \"mse\"}))"
   ]
  },
  {
   "cell_type": "code",
   "execution_count": 22,
   "id": "9e0588d1-539d-4ede-96d8-e5bd9436b97d",
   "metadata": {},
   "outputs": [
    {
     "name": "stdout",
     "output_type": "stream",
     "text": [
      "bestPipeline = PipelineModel_be1c510b2e15\n",
      "bestModel = RandomForestRegressionModel: uid=RandomForestRegressor_a78ed4e366d8, numTrees=100, numFeatures=12\n",
      "importances = (12,[0,1,2,3,4,5,6,7,8,9,10,11],[0.057463123157081686,0.08229475062817437,0.021989619049831325,0.014363513610566044,0.023732812036836356,0.03503969214879716,0.14518643404627518,0.010199660288414309,0.38758677128978664,0.03358521517773617,0.06773979993655256,0.12081860862994807])\n"
     ]
    }
   ],
   "source": [
    "# best parameters\n",
    "bestPipeline = rfcvModel.bestModel\n",
    "bestModel = bestPipeline.stages[1]\n",
    "importances = bestModel.featureImportances\n",
    "\n",
    "print(f'bestPipeline = {bestPipeline}')\n",
    "print(f'bestModel = {bestModel}')\n",
    "print(f'importances = {importances}')"
   ]
  },
  {
   "cell_type": "code",
   "execution_count": null,
   "id": "a1a892b4-9aa7-46f7-acdb-e684cf21a28a",
   "metadata": {},
   "outputs": [],
   "source": []
  },
  {
   "cell_type": "markdown",
   "id": "31231995-bfd4-4663-a52d-6a5dd7ed5b26",
   "metadata": {},
   "source": [
    "---"
   ]
  }
 ],
 "metadata": {
  "kernelspec": {
   "display_name": "Python 3 (ipykernel)",
   "language": "python",
   "name": "python3"
  },
  "language_info": {
   "codemirror_mode": {
    "name": "ipython",
    "version": 3
   },
   "file_extension": ".py",
   "mimetype": "text/x-python",
   "name": "python",
   "nbconvert_exporter": "python",
   "pygments_lexer": "ipython3",
   "version": "3.8.10"
  }
 },
 "nbformat": 4,
 "nbformat_minor": 5
}
