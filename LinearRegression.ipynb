{
 "cells": [
  {
   "cell_type": "code",
   "execution_count": 9,
   "id": "44bcb9f4-9b54-4105-90d4-8ba3ee853fa6",
   "metadata": {},
   "outputs": [],
   "source": [
    "import pandas as pd\n",
    "import numpy as np\n",
    "pd.set_option(\"display.max_columns\", None)\n",
    "\n",
    "from sklearn import linear_model\n",
    "from sklearn.linear_model import LinearRegression\n",
    "import statsmodels.api as sm\n",
    "from scipy import stats\n",
    "from sklearn import preprocessing\n",
    "from sklearn.model_selection import KFold\n",
    "from sklearn.metrics import r2_score, mean_absolute_error"
   ]
  },
  {
   "cell_type": "markdown",
   "id": "490ac966-4982-4f97-8ed1-37310104d617",
   "metadata": {
    "tags": []
   },
   "source": [
    "# original test"
   ]
  },
  {
   "cell_type": "code",
   "execution_count": 10,
   "id": "3249ad7b-a96e-447a-a268-60f3a53e9823",
   "metadata": {},
   "outputs": [],
   "source": [
    "# read date\n",
    "df = pd.read_csv('1_taipei_purged.csv')\n",
    "\n",
    "df = df.drop(['address', 'latitude', 'longitude', 'style', 'district'], axis=1)\n",
    "df.loc[:, 'date'] = df.loc[:, 'date'] % 100 + (df.loc[:, 'date'] // 100 - 2013 ) * 12"
   ]
  },
  {
   "cell_type": "code",
   "execution_count": 11,
   "id": "0382acbe-b9c1-4f80-ac86-dfb45805d7db",
   "metadata": {},
   "outputs": [
    {
     "name": "stdout",
     "output_type": "stream",
     "text": [
      "R2: 0.5265, MAE: 515.3778\n",
      "R2: 0.5966, MAE: 509.4179\n",
      "R2: 0.6275, MAE: 509.8817\n",
      "R2: 0.4654, MAE: 505.6145\n",
      "R2: 0.5538, MAE: 508.4188\n",
      "\n",
      "R2: 0.554, MAE: 509.7421\n"
     ]
    }
   ],
   "source": [
    "# train\n",
    "X = df.drop(['total_price', 'avg'], axis=1)\n",
    "y = df[['total_price']]\n",
    "\n",
    "model = linear_model.LinearRegression()\n",
    "\n",
    "scaler = preprocessing.StandardScaler().fit(X)\n",
    "X = scaler.transform(X)\n",
    "\n",
    "folds = 5\n",
    "kf = KFold(n_splits=folds, shuffle=True, random_state=1)\n",
    "\n",
    "# original\n",
    "r2_sum, mae_sum = 0, 0\n",
    "\n",
    "for train_index, test_index in kf.split(X):\n",
    "    X_train, X_test = X[train_index], X[test_index]\n",
    "    y_train, y_test = y.iloc[train_index], y.iloc[test_index]\n",
    "    \n",
    "    model.fit(X_train, y_train)\n",
    "    \n",
    "    y_pred = model.predict(X_test)\n",
    "    \n",
    "    r2 = round(r2_score(y_test, y_pred), 4)\n",
    "    mae = round(mean_absolute_error(y_test, y_pred), 4)\n",
    "    r2_sum += r2\n",
    "    mae_sum += mae\n",
    "    \n",
    "    print(f'R2: {r2}, MAE: {mae}')\n",
    "    \n",
    "print(f'\\nR2: {round(r2_sum/folds, 4)}, MAE: {round(mae_sum/folds, 4)}')"
   ]
  },
  {
   "cell_type": "code",
   "execution_count": 12,
   "id": "d98bded8-7b13-4df9-936a-dba5991cc273",
   "metadata": {},
   "outputs": [
    {
     "name": "stdout",
     "output_type": "stream",
     "text": [
      "                            OLS Regression Results                            \n",
      "==============================================================================\n",
      "Dep. Variable:            total_price   R-squared:                       0.611\n",
      "Model:                            OLS   Adj. R-squared:                  0.611\n",
      "Method:                 Least Squares   F-statistic:                 7.639e+04\n",
      "Date:                Thu, 26 May 2022   Prob (F-statistic):               0.00\n",
      "Time:                        09:37:18   Log-Likelihood:            -3.9338e+06\n",
      "No. Observations:              486774   AIC:                         7.868e+06\n",
      "Df Residuals:                  486763   BIC:                         7.868e+06\n",
      "Df Model:                          10                                         \n",
      "Covariance Type:            nonrobust                                         \n",
      "=================================================================================\n",
      "                    coef    std err          t      P>|t|      [0.025      0.975]\n",
      "---------------------------------------------------------------------------------\n",
      "const          -269.0767      7.717    -34.870      0.000    -284.201    -253.952\n",
      "percent           4.2594      0.087     49.181      0.000       4.090       4.429\n",
      "parking_price     1.7437      0.013    138.335      0.000       1.719       1.768\n",
      "date              0.5178      0.034     15.105      0.000       0.451       0.585\n",
      "floor             3.7963      0.243     15.602      0.000       3.319       4.273\n",
      "age               3.1304      0.107     29.368      0.000       2.921       3.339\n",
      "management        1.5224      3.211      0.474      0.635      -4.772       7.817\n",
      "size             38.4019      0.069    558.065      0.000      38.267      38.537\n",
      "room            -93.2298      1.590    -58.626      0.000     -96.347     -90.113\n",
      "living          112.9350      2.093     53.948      0.000     108.832     117.038\n",
      "bath           -101.7069      1.664    -61.107      0.000    -104.969     -98.445\n",
      "==============================================================================\n",
      "Omnibus:                   267694.169   Durbin-Watson:                   1.033\n",
      "Prob(Omnibus):                  0.000   Jarque-Bera (JB):      15613093627.872\n",
      "Skew:                           0.424   Prob(JB):                         0.00\n",
      "Kurtosis:                     880.377   Cond. No.                         898.\n",
      "==============================================================================\n",
      "\n",
      "Notes:\n",
      "[1] Standard Errors assume that the covariance matrix of the errors is correctly specified.\n"
     ]
    }
   ],
   "source": [
    "# show significant\n",
    "X = df.drop(['total_price', 'avg'], axis=1)\n",
    "y = df[['total_price']]\n",
    "\n",
    "X2 = sm.add_constant(X)\n",
    "est = sm.OLS(y, X2)\n",
    "est2 = est.fit()\n",
    "print(est2.summary())\n",
    "\n",
    "# P>|t| 小於 0.05 就具有顯著性 (0.05 0.01 0.005)"
   ]
  },
  {
   "cell_type": "markdown",
   "id": "6ccbbd94-a8f9-4c82-a684-aeed11df25fa",
   "metadata": {
    "tags": []
   },
   "source": [
    "# join data"
   ]
  },
  {
   "cell_type": "code",
   "execution_count": 21,
   "id": "40d95b7e-9c6a-4a17-8eab-31e47351191c",
   "metadata": {},
   "outputs": [],
   "source": [
    "# read date and join\n",
    "df = pd.read_csv('1_taipei_purged.csv')\n",
    "\n",
    "dfp = pd.read_csv('pop.csv')\n",
    "dfp = dfp[['year', 'district', 'pop', 'sex_ratio', 'in', 'out', 'growth', 'marry_rate']]\n",
    "\n",
    "dff = pd.read_csv('AllFinancialCols.csv')\n",
    "dff = dff[['date', 'load_archi', 'load_house', 'M1B', 'income_rate']]\n",
    "\n",
    "df['district'] = df['district'].str[3:5]\n",
    "df['year'] = df['date'] // 100\n",
    "\n",
    "df = pd.merge(df, dfp, on=['year', 'district'])\n",
    "df = pd.merge(df, dff, on='date')\n",
    "\n",
    "df = df.drop(['address', 'latitude', 'longitude', 'style', 'district', 'management', 'year'], axis=1)\n",
    "df.loc[:, 'date'] = df.loc[:, 'date'] % 100 + (df.loc[:, 'date'] // 100 - 2013 ) * 12"
   ]
  },
  {
   "cell_type": "code",
   "execution_count": 23,
   "id": "49ef96db-019f-42a6-8aef-4e5f48a19956",
   "metadata": {},
   "outputs": [
    {
     "name": "stdout",
     "output_type": "stream",
     "text": [
      "R2: 0.7578, MAE: 381.5039\n",
      "R2: 0.7399, MAE: 384.2538\n",
      "R2: 0.4237, MAE: 374.2506\n",
      "R2: 0.6949, MAE: 385.6649\n",
      "R2: 0.7393, MAE: 382.55\n",
      "\n",
      "R2: 0.6711, MAE: 381.6446\n"
     ]
    }
   ],
   "source": [
    "# train\n",
    "X = df.drop(['total_price', 'avg'], axis=1)\n",
    "y = df[['total_price']]\n",
    "\n",
    "model = linear_model.LinearRegression()\n",
    "\n",
    "scaler = preprocessing.StandardScaler().fit(X)\n",
    "X = scaler.transform(X)\n",
    "\n",
    "folds = 5\n",
    "kf = KFold(n_splits=folds, shuffle=True, random_state=1)\n",
    "\n",
    "# original\n",
    "r2_sum, mae_sum = 0, 0\n",
    "\n",
    "for train_index, test_index in kf.split(X):\n",
    "    X_train, X_test = X[train_index], X[test_index]\n",
    "    y_train, y_test = y.iloc[train_index], y.iloc[test_index]\n",
    "    \n",
    "    model.fit(X_train, y_train)\n",
    "    \n",
    "    y_pred = model.predict(X_test)\n",
    "    \n",
    "    r2 = round(r2_score(y_test, y_pred), 4)\n",
    "    mae = round(mean_absolute_error(y_test, y_pred), 4)\n",
    "    r2_sum += r2\n",
    "    mae_sum += mae\n",
    "    \n",
    "    print(f'R2: {r2}, MAE: {mae}')\n",
    "    \n",
    "print(f'\\nR2: {round(r2_sum/folds, 4)}, MAE: {round(mae_sum/folds, 4)}')"
   ]
  },
  {
   "cell_type": "code",
   "execution_count": 24,
   "id": "39285f62-cce1-4c84-94d6-4966cabd0890",
   "metadata": {},
   "outputs": [
    {
     "name": "stdout",
     "output_type": "stream",
     "text": [
      "                            OLS Regression Results                            \n",
      "==============================================================================\n",
      "Dep. Variable:            total_price   R-squared:                       0.742\n",
      "Model:                            OLS   Adj. R-squared:                  0.742\n",
      "Method:                 Least Squares   F-statistic:                 7.382e+04\n",
      "Date:                Thu, 26 May 2022   Prob (F-statistic):               0.00\n",
      "Time:                        09:41:00   Log-Likelihood:            -3.8334e+06\n",
      "No. Observations:              486774   AIC:                         7.667e+06\n",
      "Df Residuals:                  486754   BIC:                         7.667e+06\n",
      "Df Model:                          19                                         \n",
      "Covariance Type:            nonrobust                                         \n",
      "=================================================================================\n",
      "                    coef    std err          t      P>|t|      [0.025      0.975]\n",
      "---------------------------------------------------------------------------------\n",
      "const          2692.8598     92.370     29.153      0.000    2511.818    2873.901\n",
      "percent           2.1443      0.066     32.699      0.000       2.016       2.273\n",
      "parking_price     1.4523      0.010    142.270      0.000       1.432       1.472\n",
      "date              2.3360      0.333      7.021      0.000       1.684       2.988\n",
      "floor            12.4621      0.197     63.114      0.000      12.075      12.849\n",
      "age              -4.2556      0.088    -48.538      0.000      -4.427      -4.084\n",
      "size             38.1068      0.056    681.361      0.000      37.997      38.216\n",
      "room            -57.3762      1.291    -44.453      0.000     -59.906     -54.846\n",
      "living          120.7702      1.705     70.826      0.000     117.428     124.112\n",
      "bath           -126.0911      1.354    -93.101      0.000    -128.746    -123.437\n",
      "pop               0.0004   8.72e-06     51.227      0.000       0.000       0.000\n",
      "sex_ratio     -3264.3982     36.650    -89.069      0.000   -3336.231   -3192.565\n",
      "in                0.1016      0.001     90.245      0.000       0.099       0.104\n",
      "out              -0.0423      0.001    -40.162      0.000      -0.044      -0.040\n",
      "growth           -0.1122      0.001   -145.521      0.000      -0.114      -0.111\n",
      "marry_rate       10.2028      1.987      5.134      0.000       6.308      14.098\n",
      "load_archi        0.0002   3.67e-05      4.743      0.000       0.000       0.000\n",
      "load_house        0.0002   2.58e-05      7.111      0.000       0.000       0.000\n",
      "M1B              -0.0001   4.03e-06    -25.779      0.000      -0.000    -9.6e-05\n",
      "income_rate       7.5322      0.693     10.872      0.000       6.174       8.890\n",
      "==============================================================================\n",
      "Omnibus:                   382003.824   Durbin-Watson:                   1.524\n",
      "Prob(Omnibus):                  0.000   Jarque-Bera (JB):      76447038778.564\n",
      "Skew:                          -1.626   Prob(JB):                         0.00\n",
      "Kurtosis:                    1944.430   Cond. No.                     1.91e+09\n",
      "==============================================================================\n",
      "\n",
      "Notes:\n",
      "[1] Standard Errors assume that the covariance matrix of the errors is correctly specified.\n",
      "[2] The condition number is large, 1.91e+09. This might indicate that there are\n",
      "strong multicollinearity or other numerical problems.\n"
     ]
    }
   ],
   "source": [
    "# show significant\n",
    "X = df.drop(['total_price', 'avg'], axis=1)\n",
    "y = df[['total_price']]\n",
    "\n",
    "X2 = sm.add_constant(X)\n",
    "est = sm.OLS(y, X2)\n",
    "est2 = est.fit()\n",
    "print(est2.summary())\n",
    "\n",
    "# P>|t| 小於 0.05 就具有顯著性 (0.05 0.01 0.005)"
   ]
  },
  {
   "cell_type": "code",
   "execution_count": null,
   "id": "4ede4f04-3a18-4944-a56a-1f05ef4fb09e",
   "metadata": {},
   "outputs": [],
   "source": []
  }
 ],
 "metadata": {
  "kernelspec": {
   "display_name": "Python 3 (ipykernel)",
   "language": "python",
   "name": "python3"
  },
  "language_info": {
   "codemirror_mode": {
    "name": "ipython",
    "version": 3
   },
   "file_extension": ".py",
   "mimetype": "text/x-python",
   "name": "python",
   "nbconvert_exporter": "python",
   "pygments_lexer": "ipython3",
   "version": "3.8.10"
  }
 },
 "nbformat": 4,
 "nbformat_minor": 5
}
