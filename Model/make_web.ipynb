{
 "cells": [
  {
   "cell_type": "code",
   "execution_count": 1,
   "id": "f26de377-2346-4464-95f2-3ef6fda0402c",
   "metadata": {},
   "outputs": [],
   "source": [
    "import pandas as pd\n",
    "import numpy as np\n",
    "pd.set_option(\"display.max_columns\", None)\n",
    "\n",
    "from sklearn import preprocessing\n",
    "from sklearn.metrics import r2_score, mean_absolute_error\n",
    "import xgboost as xgb\n",
    "from joblib import load, dump\n",
    "from sklearn.model_selection import train_test_split"
   ]
  },
  {
   "cell_type": "markdown",
   "id": "86eea1dd-cfae-41d0-9400-bd2b9b9ac0c8",
   "metadata": {},
   "source": [
    "# make df for web with pred"
   ]
  },
  {
   "cell_type": "code",
   "execution_count": 4,
   "id": "15d98a0b-b773-426b-b34a-9e783425ae55",
   "metadata": {},
   "outputs": [],
   "source": [
    "df = pd.read_csv('1_taipei_purged.csv')\n",
    "\n",
    "dfp = pd.read_csv('pop.csv')\n",
    "dfp = dfp[['year', 'district', 'pop', 'sex_ratio', 'in', 'out', 'growth', 'marry_rate']]\n",
    "\n",
    "dff = pd.read_csv('AllFinancialCols.csv')\n",
    "dff = dff[['date', 'load_archi', 'load_house', 'M1B', 'income_rate']]\n",
    "\n",
    "df['district'] = df['district'].str[3:5]\n",
    "df['year'] = df['date'] // 100\n",
    "\n",
    "df = pd.merge(df, dfp, on=['year', 'district'])\n",
    "df = pd.merge(df, dff, on='date')\n",
    "\n",
    "df = df.drop(['address', 'latitude', 'longitude', 'style', 'percent', 'management', 'district', 'year'], axis=1)\n",
    "df.loc[:, 'date'] = df.loc[:, 'date'] % 100 + (df.loc[:, 'date'] // 100 - 2013 ) * 12"
   ]
  },
  {
   "cell_type": "code",
   "execution_count": 5,
   "id": "d201ac9e-03f2-41d0-88a4-04fe1d55376d",
   "metadata": {},
   "outputs": [
    {
     "data": {
      "text/plain": [
       "XGBRegressor(base_score=0.5, booster='gbtree', callbacks=None,\n",
       "             colsample_bylevel=1, colsample_bynode=1, colsample_bytree=1,\n",
       "             early_stopping_rounds=None, enable_categorical=False,\n",
       "             eval_metric=None, gamma=0.05, gpu_id=-1, grow_policy='depthwise',\n",
       "             importance_type=None, interaction_constraints='',\n",
       "             learning_rate=0.25, max_bin=256, max_cat_to_onehot=4,\n",
       "             max_delta_step=0, max_depth=13, max_leaves=0, min_child_weight=1,\n",
       "             missing=nan, monotone_constraints='()', n_estimators=100, n_jobs=0,\n",
       "             num_parallel_tree=1, predictor='auto', random_state=0,\n",
       "             reg_alpha=0.3, reg_lambda=0.09, ...)"
      ]
     },
     "execution_count": 5,
     "metadata": {},
     "output_type": "execute_result"
    }
   ],
   "source": [
    "# train\n",
    "model = load('house.joblib')\n",
    "\n",
    "X = df.drop(['total_price', 'avg'], axis=1)\n",
    "y = df[['total_price']]\n",
    "\n",
    "scaler = preprocessing.StandardScaler().fit(X)\n",
    "X = scaler.transform(X)\n",
    "\n",
    "X_train, X_test, y_train, y_test = train_test_split(X, y, test_size=0.2, random_state=1)\n",
    "\n",
    "model.fit(X_train, y_train)"
   ]
  },
  {
   "cell_type": "code",
   "execution_count": 6,
   "id": "d6f09d8f-d725-4968-a25d-406671db12b6",
   "metadata": {},
   "outputs": [],
   "source": [
    "# get all predict \n",
    "y_pred = model.predict(X)\n",
    "\n",
    "pred = pd.DataFrame(y_pred, columns = ['pred'])"
   ]
  },
  {
   "cell_type": "code",
   "execution_count": 7,
   "id": "d6aeee2f-2c3e-497f-ac16-ff51bc0095b1",
   "metadata": {},
   "outputs": [],
   "source": [
    "# reload df\n",
    "df = pd.read_csv('1_taipei_purged.csv')\n",
    "\n",
    "dfp = pd.read_csv('pop.csv')\n",
    "dfp = dfp[['year', 'district', 'pop', 'sex_ratio', 'in', 'out', 'growth', 'marry_rate']]\n",
    "\n",
    "dff = pd.read_csv('AllFinancialCols.csv')\n",
    "dff = dff[['date', 'load_archi', 'load_house', 'M1B', 'income_rate']]\n",
    "\n",
    "df['district'] = df['district'].str[3:5]\n",
    "df['year'] = df['date'] // 100\n",
    "\n",
    "df = pd.merge(df, dfp, on=['year', 'district'])\n",
    "df = pd.merge(df, dff, on='date')"
   ]
  },
  {
   "cell_type": "code",
   "execution_count": 9,
   "id": "6c155f80-f3bf-482a-9d4c-cea58f1c94b0",
   "metadata": {},
   "outputs": [],
   "source": [
    "# join pred\n",
    "df['pred'] = pred\n",
    "df['avg_pred'] = df['pred'] / df['size']\n",
    "\n",
    "df.drop(['percent', 'management', 'room', 'living', 'bath', 'year', 'pop',\n",
    "       'sex_ratio', 'in', 'out', 'growth', 'marry_rate', 'load_archi',\n",
    "       'load_house', 'M1B', 'income_rate'],\n",
    "        axis=1,\n",
    "        inplace=True)\n",
    "\n",
    "df['date'] = pd.to_datetime(df['date'], format='%Y%m')\n",
    "\n",
    "df.to_csv('web_with_pred.csv', index=False)"
   ]
  },
  {
   "cell_type": "code",
   "execution_count": null,
   "id": "d0d97e91-0098-4f4d-95bb-34b37716f6f6",
   "metadata": {},
   "outputs": [],
   "source": []
  }
 ],
 "metadata": {
  "kernelspec": {
   "display_name": "Python 3 (ipykernel)",
   "language": "python",
   "name": "python3"
  },
  "language_info": {
   "codemirror_mode": {
    "name": "ipython",
    "version": 3
   },
   "file_extension": ".py",
   "mimetype": "text/x-python",
   "name": "python",
   "nbconvert_exporter": "python",
   "pygments_lexer": "ipython3",
   "version": "3.8.10"
  }
 },
 "nbformat": 4,
 "nbformat_minor": 5
}
