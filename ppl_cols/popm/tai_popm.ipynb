{
 "cells": [
  {
   "cell_type": "code",
   "execution_count": 1,
   "id": "2444c3c4",
   "metadata": {
    "scrolled": false
   },
   "outputs": [
    {
     "name": "stdout",
     "output_type": "stream",
     "text": [
      "C:/Users/Student/Desktop/population/migrate/tai/out\\102遷出.ods done\n",
      "C:/Users/Student/Desktop/population/migrate/tai/out\\103遷出.ods done\n",
      "C:/Users/Student/Desktop/population/migrate/tai/out\\104遷出.ods done\n",
      "C:/Users/Student/Desktop/population/migrate/tai/out\\105遷出.ods done\n",
      "C:/Users/Student/Desktop/population/migrate/tai/out\\106遷出.ods done\n",
      "C:/Users/Student/Desktop/population/migrate/tai/out\\107遷出.ods done\n",
      "C:/Users/Student/Desktop/population/migrate/tai/out\\108遷出.ods done\n",
      "C:/Users/Student/Desktop/population/migrate/tai/out\\109遷出.ods done\n",
      "C:/Users/Student/Desktop/population/migrate/tai/out\\110遷出.ods done\n"
     ]
    }
   ],
   "source": [
    "# excle to csv\n",
    "import pandas as pd \n",
    "import glob\n",
    "filename=glob.glob('C:/Users/Student/Desktop/population/migrate/tai/out/*.ods')\n",
    "for i in filename:\n",
    "    df=pd.read_excel(f'{i}')\n",
    "    df.to_csv('./rowdata/taipei/out/'+f'{i}'[-9:-4]+'.csv')\n",
    "    print(i,'done')"
   ]
  },
  {
   "cell_type": "code",
   "execution_count": 3,
   "id": "75762417",
   "metadata": {
    "scrolled": true
   },
   "outputs": [],
   "source": [
    "# clean data\n",
    "import numpy as np\n",
    "import pandas as pd\n",
    "import glob\n",
    "filename=glob.glob('C:/Users/Student/BDSE_pop/popm/rowdata/taipei/out/*.csv')\n",
    "pdList=[]\n",
    "for f in filename:\n",
    "    df=pd.read_csv(f)\n",
    "\n",
    "    # drop\n",
    "    df=df.iloc[0:15:,[1,2]]\n",
    "    df=df.drop([0,1,2])\n",
    "    \n",
    "    # rename\n",
    "    year=str(df.columns[0][3:6])\n",
    "    df.rename(columns ={df.columns[0]:'district',df.columns[1]:'out'},inplace=True)\n",
    "    \n",
    "    # add col\n",
    "    df=df.assign(year=year)\n",
    "    \n",
    "    pdList.append(df)\n",
    "\n",
    "# save\n",
    "tpopm=pd.concat(pdList)\n",
    "tpopm.to_csv('./tai_popm.csv',index=False)"
   ]
  },
  {
   "cell_type": "code",
   "execution_count": 4,
   "id": "04bdf73c",
   "metadata": {},
   "outputs": [],
   "source": [
    "# tai concat ntaipei\n",
    "import pandas as pd\n",
    "import glob\n",
    "popm = pd.concat((pd.read_csv(f) for f in glob.glob('./*.csv')),ignore_index=True)\n",
    "popm.to_csv('../cleaned_data/popm.csv',index=False)"
   ]
  }
 ],
 "metadata": {
  "kernelspec": {
   "display_name": "Python [conda env:root] *",
   "language": "python",
   "name": "conda-root-py"
  },
  "language_info": {
   "codemirror_mode": {
    "name": "ipython",
    "version": 3
   },
   "file_extension": ".py",
   "mimetype": "text/x-python",
   "name": "python",
   "nbconvert_exporter": "python",
   "pygments_lexer": "ipython3",
   "version": "3.9.12"
  }
 },
 "nbformat": 4,
 "nbformat_minor": 5
}
