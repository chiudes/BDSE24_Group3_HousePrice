{
 "cells": [
  {
   "cell_type": "code",
   "execution_count": 12,
   "id": "2dfd16e1",
   "metadata": {},
   "outputs": [],
   "source": [
    "import pandas as pd"
   ]
  },
  {
   "cell_type": "code",
   "execution_count": 13,
   "id": "096a4b86",
   "metadata": {},
   "outputs": [],
   "source": [
    "n=pd.read_csv('./ntai_marry.csv')\n",
    "t=pd.read_csv('./tai_marry.csv')"
   ]
  },
  {
   "cell_type": "code",
   "execution_count": 14,
   "id": "3a21998b",
   "metadata": {},
   "outputs": [],
   "source": [
    "# concat files\n",
    "marry=pd.concat([n,t])"
   ]
  },
  {
   "cell_type": "code",
   "execution_count": 15,
   "id": "9caac0e2",
   "metadata": {},
   "outputs": [],
   "source": [
    "# clean data\n",
    "marry['district']=marry['district'].str[:-1]\n",
    "marry['district']=marry['district'].str[-2:]"
   ]
  },
  {
   "cell_type": "code",
   "execution_count": 16,
   "id": "da2f9243",
   "metadata": {},
   "outputs": [
    {
     "data": {
      "text/html": [
       "<div>\n",
       "<style scoped>\n",
       "    .dataframe tbody tr th:only-of-type {\n",
       "        vertical-align: middle;\n",
       "    }\n",
       "\n",
       "    .dataframe tbody tr th {\n",
       "        vertical-align: top;\n",
       "    }\n",
       "\n",
       "    .dataframe thead th {\n",
       "        text-align: right;\n",
       "    }\n",
       "</style>\n",
       "<table border=\"1\" class=\"dataframe\">\n",
       "  <thead>\n",
       "    <tr style=\"text-align: right;\">\n",
       "      <th></th>\n",
       "      <th>date</th>\n",
       "      <th>district</th>\n",
       "      <th>marry_rate</th>\n",
       "    </tr>\n",
       "  </thead>\n",
       "  <tbody>\n",
       "    <tr>\n",
       "      <th>0</th>\n",
       "      <td>102</td>\n",
       "      <td>板橋</td>\n",
       "      <td>7.306436</td>\n",
       "    </tr>\n",
       "    <tr>\n",
       "      <th>1</th>\n",
       "      <td>102</td>\n",
       "      <td>三重</td>\n",
       "      <td>7.259877</td>\n",
       "    </tr>\n",
       "    <tr>\n",
       "      <th>2</th>\n",
       "      <td>102</td>\n",
       "      <td>中和</td>\n",
       "      <td>7.560000</td>\n",
       "    </tr>\n",
       "    <tr>\n",
       "      <th>3</th>\n",
       "      <td>102</td>\n",
       "      <td>永和</td>\n",
       "      <td>6.537199</td>\n",
       "    </tr>\n",
       "    <tr>\n",
       "      <th>4</th>\n",
       "      <td>102</td>\n",
       "      <td>新莊</td>\n",
       "      <td>7.277429</td>\n",
       "    </tr>\n",
       "    <tr>\n",
       "      <th>...</th>\n",
       "      <td>...</td>\n",
       "      <td>...</td>\n",
       "      <td>...</td>\n",
       "    </tr>\n",
       "    <tr>\n",
       "      <th>103</th>\n",
       "      <td>110</td>\n",
       "      <td>文山</td>\n",
       "      <td>4.140000</td>\n",
       "    </tr>\n",
       "    <tr>\n",
       "      <th>104</th>\n",
       "      <td>110</td>\n",
       "      <td>南港</td>\n",
       "      <td>4.850000</td>\n",
       "    </tr>\n",
       "    <tr>\n",
       "      <th>105</th>\n",
       "      <td>110</td>\n",
       "      <td>內湖</td>\n",
       "      <td>4.840000</td>\n",
       "    </tr>\n",
       "    <tr>\n",
       "      <th>106</th>\n",
       "      <td>110</td>\n",
       "      <td>士林</td>\n",
       "      <td>4.850000</td>\n",
       "    </tr>\n",
       "    <tr>\n",
       "      <th>107</th>\n",
       "      <td>110</td>\n",
       "      <td>北投</td>\n",
       "      <td>4.420000</td>\n",
       "    </tr>\n",
       "  </tbody>\n",
       "</table>\n",
       "<p>369 rows × 3 columns</p>\n",
       "</div>"
      ],
      "text/plain": [
       "     date district  marry_rate\n",
       "0     102       板橋    7.306436\n",
       "1     102       三重    7.259877\n",
       "2     102       中和    7.560000\n",
       "3     102       永和    6.537199\n",
       "4     102       新莊    7.277429\n",
       "..    ...      ...         ...\n",
       "103   110       文山    4.140000\n",
       "104   110       南港    4.850000\n",
       "105   110       內湖    4.840000\n",
       "106   110       士林    4.850000\n",
       "107   110       北投    4.420000\n",
       "\n",
       "[369 rows x 3 columns]"
      ]
     },
     "execution_count": 16,
     "metadata": {},
     "output_type": "execute_result"
    }
   ],
   "source": [
    "marry"
   ]
  },
  {
   "cell_type": "code",
   "execution_count": 18,
   "id": "7c7549ad",
   "metadata": {},
   "outputs": [],
   "source": [
    "#　save csv\n",
    "marry.to_csv('../cleaned_data/marry.csv',index=False)"
   ]
  }
 ],
 "metadata": {
  "kernelspec": {
   "display_name": "Python [conda env:root] *",
   "language": "python",
   "name": "conda-root-py"
  },
  "language_info": {
   "codemirror_mode": {
    "name": "ipython",
    "version": 3
   },
   "file_extension": ".py",
   "mimetype": "text/x-python",
   "name": "python",
   "nbconvert_exporter": "python",
   "pygments_lexer": "ipython3",
   "version": "3.9.12"
  }
 },
 "nbformat": 4,
 "nbformat_minor": 5
}
