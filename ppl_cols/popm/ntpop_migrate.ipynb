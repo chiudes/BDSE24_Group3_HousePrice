{
 "cells": [
  {
   "cell_type": "code",
   "execution_count": 1,
   "id": "2b4bb83e",
   "metadata": {},
   "outputs": [],
   "source": [
    "import pandas as pd \n",
    "import glob\n",
    "filename=glob.glob('C:/Users/Student/Desktop/population/migrate/ntai/in/*.csv')"
   ]
  },
  {
   "cell_type": "code",
   "execution_count": 2,
   "id": "9b0e63e3",
   "metadata": {},
   "outputs": [
    {
     "name": "stdout",
     "output_type": "stream",
     "text": [
      "C:/Users/Student/Desktop/population/migrate/ntai/in\\102年4月各類別人口統計.csv done\n",
      "C:/Users/Student/Desktop/population/migrate/ntai/in\\103年4月各類別人口統計.csv done\n",
      "C:/Users/Student/Desktop/population/migrate/ntai/in\\104年4月各類別人口統計.csv done\n",
      "C:/Users/Student/Desktop/population/migrate/ntai/in\\105年4月各類別人口統計.csv done\n",
      "C:/Users/Student/Desktop/population/migrate/ntai/in\\106年4月各類別人口統計.csv done\n",
      "C:/Users/Student/Desktop/population/migrate/ntai/in\\107年4月各類別人口統計.csv done\n",
      "C:/Users/Student/Desktop/population/migrate/ntai/in\\108年4月各類別人口統計.csv done\n",
      "C:/Users/Student/Desktop/population/migrate/ntai/in\\109年4月各類別人口統計.csv done\n",
      "C:/Users/Student/Desktop/population/migrate/ntai/in\\110年4月各類別人口統計.csv done\n",
      "C:/Users/Student/Desktop/population/migrate/ntai/in\\111年4月各類別人口統計.csv done\n"
     ]
    }
   ],
   "source": [
    "type='in'\n",
    "#year=filename[0][-17:-14]\n",
    "\n",
    "for f in filename:\n",
    "    year=f[-17:-14]\n",
    "    df=pd.read_csv(f,encoding='big5')\n",
    "    df.to_csv('./ntaipei/in/'+f'{year}{type}'+'.csv')\n",
    "    print(f,'done')"
   ]
  },
  {
   "cell_type": "code",
   "execution_count": 3,
   "id": "9ae0134b",
   "metadata": {
    "scrolled": false
   },
   "outputs": [],
   "source": [
    "# concat\n",
    "import glob\n",
    "nt_out = pd.concat([pd.read_csv(i) for i in glob.glob('C:/Users/Student/BDSE_pop/popm/rowdata/ntaipei/out/*.csv')])\n",
    "#print(out)\n",
    "\n",
    "# rename\n",
    "nt_out.rename(columns ={'年':'year',\n",
    "                    '隸屬區':'district',\n",
    "                    '人數(對數)':'out'},\n",
    "           inplace=True)\n",
    "# drop cols\n",
    "nt_out=nt_out[['year','district','out']]"
   ]
  },
  {
   "cell_type": "code",
   "execution_count": 4,
   "id": "ff32edf6",
   "metadata": {
    "scrolled": false
   },
   "outputs": [],
   "source": [
    "# concat\n",
    "import glob\n",
    "nt_in = pd.concat([pd.read_csv(i) for i in glob.glob('C:/Users/Student/BDSE_pop/popm/rowdata/ntaipei/in/*.csv')])\n",
    "#print(out)\n",
    "\n",
    "# rename\n",
    "nt_in.rename(columns ={'年':'year',\n",
    "                    '隸屬區':'district',\n",
    "                    '人數(對數)':'in'},\n",
    "           inplace=True)\n",
    "# drop cols\n",
    "nt_in=nt_in[['year','district','in']]"
   ]
  },
  {
   "cell_type": "code",
   "execution_count": 5,
   "id": "cf23b58e",
   "metadata": {},
   "outputs": [],
   "source": [
    "# merge\n",
    "nt_popm=nt_in.merge(nt_out,on=['year','district'])\n",
    "# dropna\n",
    "nt_popm=nt_popm.dropna()\n",
    "nt_popm['district']=nt_popm['district'].str[0:2]\n",
    "# save\n",
    "nt_popm.to_csv('./n_popm.csv',index=False)"
   ]
  },
  {
   "cell_type": "code",
   "execution_count": null,
   "id": "6a44a3e1",
   "metadata": {},
   "outputs": [],
   "source": []
  }
 ],
 "metadata": {
  "kernelspec": {
   "display_name": "Python [conda env:root] *",
   "language": "python",
   "name": "conda-root-py"
  },
  "language_info": {
   "codemirror_mode": {
    "name": "ipython",
    "version": 3
   },
   "file_extension": ".py",
   "mimetype": "text/x-python",
   "name": "python",
   "nbconvert_exporter": "python",
   "pygments_lexer": "ipython3",
   "version": "3.9.12"
  }
 },
 "nbformat": 4,
 "nbformat_minor": 5
}
