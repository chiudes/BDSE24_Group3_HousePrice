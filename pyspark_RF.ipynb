{
 "cells": [
  {
   "cell_type": "code",
   "execution_count": 1,
   "id": "5f53e8f3-0d6b-48a3-9768-4cdef0a20302",
   "metadata": {},
   "outputs": [],
   "source": [
    "import pandas as pd\n",
    "import numpy as np\n",
    "import os\n",
    "from pyspark import SparkConf, SparkContext\n",
    "from pyspark.sql import SparkSession\n",
    "import pyspark.sql.functions as fn\n",
    "from sklearn import preprocessing\n",
    "\n",
    "from pyspark.ml.classification import LogisticRegression\n",
    "from pyspark.mllib.tree import RandomForest\n",
    "from pyspark.ml.feature import HashingTF , Tokenizer\n",
    "from pyspark.ml import Pipeline"
   ]
  },
  {
   "cell_type": "code",
   "execution_count": 2,
   "id": "95fc8e13-4611-48c7-8a2e-1b53c324c350",
   "metadata": {},
   "outputs": [],
   "source": [
    "import findspark\n",
    "findspark.init('/opt/spark-3.2.1-bin-hadoop3.2/')"
   ]
  },
  {
   "cell_type": "code",
   "execution_count": 3,
   "id": "fb7de811-30d4-4551-b3ac-caee015702a2",
   "metadata": {},
   "outputs": [
    {
     "name": "stderr",
     "output_type": "stream",
     "text": [
      "Setting default log level to \"WARN\".\n",
      "To adjust logging level use sc.setLogLevel(newLevel). For SparkR, use setLogLevel(newLevel).\n",
      "2022-05-25 15:22:41,050 WARN util.NativeCodeLoader: Unable to load native-hadoop library for your platform... using builtin-java classes where applicable\n"
     ]
    }
   ],
   "source": [
    "# yarn mode\n",
    "spark = SparkSession\\\n",
    "        .builder\\\n",
    "        .master(\"yarn\")\\\n",
    "        .config('spark.executor.instances','18')\\\n",
    "        .config('spark.executor.memory','8G')\\\n",
    "        .appName(\"dc\")\\\n",
    "        .getOrCreate()"
   ]
  },
  {
   "cell_type": "code",
   "execution_count": 4,
   "id": "85945e89-9fe3-4842-ac94-1907f046c0f0",
   "metadata": {},
   "outputs": [
    {
     "data": {
      "text/html": [
       "\n",
       "            <div>\n",
       "                <p><b>SparkSession - in-memory</b></p>\n",
       "                \n",
       "        <div>\n",
       "            <p><b>SparkContext</b></p>\n",
       "\n",
       "            <p><a href=\"http://bdse81.example.com:4040\">Spark UI</a></p>\n",
       "\n",
       "            <dl>\n",
       "              <dt>Version</dt>\n",
       "                <dd><code>v3.2.1</code></dd>\n",
       "              <dt>Master</dt>\n",
       "                <dd><code>yarn</code></dd>\n",
       "              <dt>AppName</dt>\n",
       "                <dd><code>dc</code></dd>\n",
       "            </dl>\n",
       "        </div>\n",
       "        \n",
       "            </div>\n",
       "        "
      ],
      "text/plain": [
       "<pyspark.sql.session.SparkSession at 0x7f66389490a0>"
      ]
     },
     "execution_count": 4,
     "metadata": {},
     "output_type": "execute_result"
    }
   ],
   "source": [
    "spark"
   ]
  },
  {
   "cell_type": "code",
   "execution_count": 5,
   "id": "056dfb9d-40a1-4841-a3a3-3cd253074eaa",
   "metadata": {},
   "outputs": [],
   "source": [
    "spark.conf.set(\"spark.sql.execution.arrow.pyscpark.enabled\", True)"
   ]
  },
  {
   "cell_type": "code",
   "execution_count": 6,
   "id": "0754f80f-ee5b-4e24-9a9c-a844168fdff6",
   "metadata": {},
   "outputs": [],
   "source": [
    "os.environ[\"PYARROW_IGNORE_TIMEZONE\"] = \"1\""
   ]
  },
  {
   "cell_type": "code",
   "execution_count": 7,
   "id": "d1355e42-f93e-4d8e-81ce-4902f306c9d7",
   "metadata": {},
   "outputs": [],
   "source": [
    "import pyspark.pandas as ps"
   ]
  },
  {
   "cell_type": "code",
   "execution_count": 8,
   "id": "b1172740-8023-45f3-b6ff-9b3a465c93ef",
   "metadata": {},
   "outputs": [],
   "source": [
    "ps.set_option(\"compute.default_index_type\", \"distributed\")"
   ]
  },
  {
   "cell_type": "markdown",
   "id": "2200ead0-7193-4125-9da4-80b2d44cd942",
   "metadata": {},
   "source": [
    "---"
   ]
  },
  {
   "cell_type": "markdown",
   "id": "e10caa33-871c-43bf-9c0c-7d7259d55574",
   "metadata": {},
   "source": [
    "## RandomForestClassifier"
   ]
  },
  {
   "cell_type": "code",
   "execution_count": 87,
   "id": "12fed16e-74c2-4d61-bccd-eae3d130aa77",
   "metadata": {},
   "outputs": [
    {
     "name": "stderr",
     "output_type": "stream",
     "text": [
      "[Stage 687:===================================================>   (17 + 1) / 18]\r"
     ]
    },
    {
     "name": "stdout",
     "output_type": "stream",
     "text": [
      "root\n",
      " |-- address: string (nullable = true)\n",
      " |-- style: string (nullable = true)\n",
      " |-- percent: double (nullable = true)\n",
      " |-- district: string (nullable = true)\n",
      " |-- parking_price: double (nullable = true)\n",
      " |-- date: integer (nullable = true)\n",
      " |-- floor: integer (nullable = true)\n",
      " |-- age: double (nullable = true)\n",
      " |-- latitude: double (nullable = true)\n",
      " |-- longitude: double (nullable = true)\n",
      " |-- management: integer (nullable = true)\n",
      " |-- area: double (nullable = true)\n",
      " |-- total_price: double (nullable = true)\n",
      " |-- room: double (nullable = true)\n",
      " |-- living: double (nullable = true)\n",
      " |-- bath: double (nullable = true)\n",
      " |-- avg: double (nullable = true)\n",
      " |-- interest rate: double (nullable = true)\n",
      " |-- CCI: double (nullable = true)\n",
      " |-- CCI_rate: double (nullable = true)\n",
      " |-- CPI: double (nullable = true)\n",
      " |-- CPI_rate: double (nullable = true)\n",
      " |-- M1A: integer (nullable = true)\n",
      " |-- M1A_rate: double (nullable = true)\n",
      " |-- M1B: integer (nullable = true)\n",
      " |-- M1B_rate: double (nullable = true)\n",
      " |-- M2: integer (nullable = true)\n",
      " |-- M2_rate: double (nullable = true)\n",
      " |-- load_house: integer (nullable = true)\n",
      " |-- load_house_rate: double (nullable = true)\n",
      " |-- load_archi: integer (nullable = true)\n",
      " |-- load_archi_rate: double (nullable = true)\n",
      " |-- NonPerforming_Loans_Ratio: double (nullable = true)\n",
      " |-- TWSE: double (nullable = true)\n",
      " |-- TWSE_rate: double (nullable = true)\n",
      " |-- unemployment_rate: double (nullable = true)\n",
      " |-- income: integer (nullable = true)\n",
      " |-- income_rate: double (nullable = true)\n",
      " |-- GDP: double (nullable = true)\n",
      " |-- GDP_rate: double (nullable = true)\n",
      "\n"
     ]
    },
    {
     "name": "stderr",
     "output_type": "stream",
     "text": [
      "                                                                                \r"
     ]
    }
   ],
   "source": [
    "df = spark.read.csv('2.2.2_ML_financial.csv', header = True, inferSchema = True)\n",
    "df.printSchema()"
   ]
  },
  {
   "cell_type": "code",
   "execution_count": 88,
   "id": "66d8f67e-87a8-4a13-b3f3-5443bd76019e",
   "metadata": {},
   "outputs": [
    {
     "name": "stdout",
     "output_type": "stream",
     "text": [
      "(514029, 40)\n"
     ]
    }
   ],
   "source": [
    "print((df.count(), len(df.columns)))"
   ]
  },
  {
   "cell_type": "code",
   "execution_count": 89,
   "id": "fabb4d8a-b4af-4a3e-8bae-72a6aa95571a",
   "metadata": {},
   "outputs": [],
   "source": [
    "df = df.drop('district','avg','style','address')"
   ]
  },
  {
   "cell_type": "code",
   "execution_count": 90,
   "id": "55d4b890-2d85-40ae-a644-9c21a742ee18",
   "metadata": {},
   "outputs": [
    {
     "name": "stdout",
     "output_type": "stream",
     "text": [
      "root\n",
      " |-- percent: double (nullable = true)\n",
      " |-- parking_price: double (nullable = true)\n",
      " |-- date: integer (nullable = true)\n",
      " |-- floor: integer (nullable = true)\n",
      " |-- age: double (nullable = true)\n",
      " |-- latitude: double (nullable = true)\n",
      " |-- longitude: double (nullable = true)\n",
      " |-- management: integer (nullable = true)\n",
      " |-- area: double (nullable = true)\n",
      " |-- total_price: double (nullable = true)\n",
      " |-- room: double (nullable = true)\n",
      " |-- living: double (nullable = true)\n",
      " |-- bath: double (nullable = true)\n",
      " |-- interest rate: double (nullable = true)\n",
      " |-- CCI: double (nullable = true)\n",
      " |-- CCI_rate: double (nullable = true)\n",
      " |-- CPI: double (nullable = true)\n",
      " |-- CPI_rate: double (nullable = true)\n",
      " |-- M1A: integer (nullable = true)\n",
      " |-- M1A_rate: double (nullable = true)\n",
      " |-- M1B: integer (nullable = true)\n",
      " |-- M1B_rate: double (nullable = true)\n",
      " |-- M2: integer (nullable = true)\n",
      " |-- M2_rate: double (nullable = true)\n",
      " |-- load_house: integer (nullable = true)\n",
      " |-- load_house_rate: double (nullable = true)\n",
      " |-- load_archi: integer (nullable = true)\n",
      " |-- load_archi_rate: double (nullable = true)\n",
      " |-- NonPerforming_Loans_Ratio: double (nullable = true)\n",
      " |-- TWSE: double (nullable = true)\n",
      " |-- TWSE_rate: double (nullable = true)\n",
      " |-- unemployment_rate: double (nullable = true)\n",
      " |-- income: integer (nullable = true)\n",
      " |-- income_rate: double (nullable = true)\n",
      " |-- GDP: double (nullable = true)\n",
      " |-- GDP_rate: double (nullable = true)\n",
      "\n"
     ]
    }
   ],
   "source": [
    "df.printSchema()"
   ]
  },
  {
   "cell_type": "code",
   "execution_count": 91,
   "id": "6428820b-1f5d-4dc0-9058-fbfa7802eaa2",
   "metadata": {},
   "outputs": [
    {
     "name": "stderr",
     "output_type": "stream",
     "text": [
      "2022-05-25 16:14:53,507 WARN util.package: Truncated the string representation of a plan since it was too large. This behavior can be adjusted by setting 'spark.sql.debug.maxToStringFields'.\n"
     ]
    },
    {
     "data": {
      "text/html": [
       "<div>\n",
       "<style scoped>\n",
       "    .dataframe tbody tr th:only-of-type {\n",
       "        vertical-align: middle;\n",
       "    }\n",
       "\n",
       "    .dataframe tbody tr th {\n",
       "        vertical-align: top;\n",
       "    }\n",
       "\n",
       "    .dataframe thead th {\n",
       "        text-align: right;\n",
       "    }\n",
       "</style>\n",
       "<table border=\"1\" class=\"dataframe\">\n",
       "  <thead>\n",
       "    <tr style=\"text-align: right;\">\n",
       "      <th></th>\n",
       "      <th>0</th>\n",
       "      <th>1</th>\n",
       "      <th>2</th>\n",
       "      <th>3</th>\n",
       "      <th>4</th>\n",
       "    </tr>\n",
       "  </thead>\n",
       "  <tbody>\n",
       "    <tr>\n",
       "      <th>summary</th>\n",
       "      <td>count</td>\n",
       "      <td>mean</td>\n",
       "      <td>stddev</td>\n",
       "      <td>min</td>\n",
       "      <td>max</td>\n",
       "    </tr>\n",
       "    <tr>\n",
       "      <th>percent</th>\n",
       "      <td>514029</td>\n",
       "      <td>63.497010869036565</td>\n",
       "      <td>19.933697010946993</td>\n",
       "      <td>0.0</td>\n",
       "      <td>100.0</td>\n",
       "    </tr>\n",
       "    <tr>\n",
       "      <th>parking_price</th>\n",
       "      <td>514029</td>\n",
       "      <td>44.120543782549234</td>\n",
       "      <td>105.1606664078682</td>\n",
       "      <td>0.0</td>\n",
       "      <td>19720.0</td>\n",
       "    </tr>\n",
       "    <tr>\n",
       "      <th>age</th>\n",
       "      <td>514029</td>\n",
       "      <td>15.361862852095893</td>\n",
       "      <td>14.69609011985436</td>\n",
       "      <td>0.0</td>\n",
       "      <td>88.0</td>\n",
       "    </tr>\n",
       "    <tr>\n",
       "      <th>latitude</th>\n",
       "      <td>514029</td>\n",
       "      <td>25.04894192582704</td>\n",
       "      <td>0.08069287031535521</td>\n",
       "      <td>0.0</td>\n",
       "      <td>25.29294802135113</td>\n",
       "    </tr>\n",
       "    <tr>\n",
       "      <th>longitude</th>\n",
       "      <td>514029</td>\n",
       "      <td>121.49020366138929</td>\n",
       "      <td>0.2502124849505386</td>\n",
       "      <td>0.0</td>\n",
       "      <td>121.92797110266169</td>\n",
       "    </tr>\n",
       "    <tr>\n",
       "      <th>area</th>\n",
       "      <td>514029</td>\n",
       "      <td>38.63148983812194</td>\n",
       "      <td>27.426338157860933</td>\n",
       "      <td>0.02</td>\n",
       "      <td>10738.54</td>\n",
       "    </tr>\n",
       "    <tr>\n",
       "      <th>total_price</th>\n",
       "      <td>514029</td>\n",
       "      <td>1432.471660353794</td>\n",
       "      <td>1219.2875629338164</td>\n",
       "      <td>0.1</td>\n",
       "      <td>186978.1</td>\n",
       "    </tr>\n",
       "    <tr>\n",
       "      <th>room</th>\n",
       "      <td>514029</td>\n",
       "      <td>2.663554001817018</td>\n",
       "      <td>1.5687786209757524</td>\n",
       "      <td>0.0</td>\n",
       "      <td>784.0</td>\n",
       "    </tr>\n",
       "    <tr>\n",
       "      <th>living</th>\n",
       "      <td>514029</td>\n",
       "      <td>1.698281614461441</td>\n",
       "      <td>0.6046313729459096</td>\n",
       "      <td>0.0</td>\n",
       "      <td>80.0</td>\n",
       "    </tr>\n",
       "    <tr>\n",
       "      <th>bath</th>\n",
       "      <td>514029</td>\n",
       "      <td>1.640407447828819</td>\n",
       "      <td>1.4078338752051076</td>\n",
       "      <td>0.0</td>\n",
       "      <td>817.0</td>\n",
       "    </tr>\n",
       "    <tr>\n",
       "      <th>interest rate</th>\n",
       "      <td>514029</td>\n",
       "      <td>1.6995829768361086</td>\n",
       "      <td>0.22501461112945523</td>\n",
       "      <td>1.346</td>\n",
       "      <td>1.99</td>\n",
       "    </tr>\n",
       "    <tr>\n",
       "      <th>CCI</th>\n",
       "      <td>514029</td>\n",
       "      <td>106.4985166206523</td>\n",
       "      <td>6.2617157051053045</td>\n",
       "      <td>99.16</td>\n",
       "      <td>125.81</td>\n",
       "    </tr>\n",
       "    <tr>\n",
       "      <th>CCI_rate</th>\n",
       "      <td>514029</td>\n",
       "      <td>1.972856550895325</td>\n",
       "      <td>3.8709663108636483</td>\n",
       "      <td>-4.7</td>\n",
       "      <td>13.71</td>\n",
       "    </tr>\n",
       "    <tr>\n",
       "      <th>CPI</th>\n",
       "      <td>514029</td>\n",
       "      <td>100.71967132205472</td>\n",
       "      <td>2.2294028148298106</td>\n",
       "      <td>96.5</td>\n",
       "      <td>105.62</td>\n",
       "    </tr>\n",
       "    <tr>\n",
       "      <th>CPI_rate</th>\n",
       "      <td>514029</td>\n",
       "      <td>0.7914525834144809</td>\n",
       "      <td>0.9394577364584132</td>\n",
       "      <td>-1.21</td>\n",
       "      <td>2.97</td>\n",
       "    </tr>\n",
       "    <tr>\n",
       "      <th>M1A_rate</th>\n",
       "      <td>514029</td>\n",
       "      <td>8.878798394643852</td>\n",
       "      <td>4.289594562579532</td>\n",
       "      <td>2.01</td>\n",
       "      <td>21.74</td>\n",
       "    </tr>\n",
       "    <tr>\n",
       "      <th>M1B_rate</th>\n",
       "      <td>514029</td>\n",
       "      <td>8.096593460679772</td>\n",
       "      <td>3.5708987554235443</td>\n",
       "      <td>3.11</td>\n",
       "      <td>18.57</td>\n",
       "    </tr>\n",
       "    <tr>\n",
       "      <th>M2_rate</th>\n",
       "      <td>514029</td>\n",
       "      <td>5.201404492743033</td>\n",
       "      <td>1.7126403398386458</td>\n",
       "      <td>2.92</td>\n",
       "      <td>9.23</td>\n",
       "    </tr>\n",
       "    <tr>\n",
       "      <th>load_house_rate</th>\n",
       "      <td>514029</td>\n",
       "      <td>5.219924206610871</td>\n",
       "      <td>1.919742621123783</td>\n",
       "      <td>2.87</td>\n",
       "      <td>10.42</td>\n",
       "    </tr>\n",
       "    <tr>\n",
       "      <th>load_archi_rate</th>\n",
       "      <td>514029</td>\n",
       "      <td>7.308166698765243</td>\n",
       "      <td>5.694959766665271</td>\n",
       "      <td>-2.77</td>\n",
       "      <td>18.7</td>\n",
       "    </tr>\n",
       "    <tr>\n",
       "      <th>NonPerforming_Loans_Ratio</th>\n",
       "      <td>514029</td>\n",
       "      <td>0.2723960515846357</td>\n",
       "      <td>0.0670532693034494</td>\n",
       "      <td>0.17</td>\n",
       "      <td>0.43</td>\n",
       "    </tr>\n",
       "    <tr>\n",
       "      <th>TWSE</th>\n",
       "      <td>514029</td>\n",
       "      <td>10634.424502411171</td>\n",
       "      <td>2634.424687513897</td>\n",
       "      <td>7850.02</td>\n",
       "      <td>18218.84</td>\n",
       "    </tr>\n",
       "    <tr>\n",
       "      <th>TWSE_rate</th>\n",
       "      <td>514029</td>\n",
       "      <td>11.010910571195748</td>\n",
       "      <td>14.819830572673139</td>\n",
       "      <td>-14.69</td>\n",
       "      <td>69.25</td>\n",
       "    </tr>\n",
       "    <tr>\n",
       "      <th>unemployment_rate</th>\n",
       "      <td>514029</td>\n",
       "      <td>3.8804003081538196</td>\n",
       "      <td>0.20555663647068112</td>\n",
       "      <td>3.62</td>\n",
       "      <td>4.8</td>\n",
       "    </tr>\n",
       "    <tr>\n",
       "      <th>income_rate</th>\n",
       "      <td>514029</td>\n",
       "      <td>4.334436014309833</td>\n",
       "      <td>2.3564997882203684</td>\n",
       "      <td>0.36</td>\n",
       "      <td>7.84</td>\n",
       "    </tr>\n",
       "    <tr>\n",
       "      <th>GDP</th>\n",
       "      <td>514029</td>\n",
       "      <td>4581300.790165535</td>\n",
       "      <td>430102.9021211484</td>\n",
       "      <td>3798607.0</td>\n",
       "      <td>5604822.0</td>\n",
       "    </tr>\n",
       "    <tr>\n",
       "      <th>GDP_rate</th>\n",
       "      <td>514029</td>\n",
       "      <td>3.3754071073810543</td>\n",
       "      <td>1.850827860066842</td>\n",
       "      <td>-0.28</td>\n",
       "      <td>9.2</td>\n",
       "    </tr>\n",
       "  </tbody>\n",
       "</table>\n",
       "</div>"
      ],
      "text/plain": [
       "                                0                   1                    2  \\\n",
       "summary                     count                mean               stddev   \n",
       "percent                    514029  63.497010869036565   19.933697010946993   \n",
       "parking_price              514029  44.120543782549234    105.1606664078682   \n",
       "age                        514029  15.361862852095893    14.69609011985436   \n",
       "latitude                   514029   25.04894192582704  0.08069287031535521   \n",
       "longitude                  514029  121.49020366138929   0.2502124849505386   \n",
       "area                       514029   38.63148983812194   27.426338157860933   \n",
       "total_price                514029   1432.471660353794   1219.2875629338164   \n",
       "room                       514029   2.663554001817018   1.5687786209757524   \n",
       "living                     514029   1.698281614461441   0.6046313729459096   \n",
       "bath                       514029   1.640407447828819   1.4078338752051076   \n",
       "interest rate              514029  1.6995829768361086  0.22501461112945523   \n",
       "CCI                        514029   106.4985166206523   6.2617157051053045   \n",
       "CCI_rate                   514029   1.972856550895325   3.8709663108636483   \n",
       "CPI                        514029  100.71967132205472   2.2294028148298106   \n",
       "CPI_rate                   514029  0.7914525834144809   0.9394577364584132   \n",
       "M1A_rate                   514029   8.878798394643852    4.289594562579532   \n",
       "M1B_rate                   514029   8.096593460679772   3.5708987554235443   \n",
       "M2_rate                    514029   5.201404492743033   1.7126403398386458   \n",
       "load_house_rate            514029   5.219924206610871    1.919742621123783   \n",
       "load_archi_rate            514029   7.308166698765243    5.694959766665271   \n",
       "NonPerforming_Loans_Ratio  514029  0.2723960515846357   0.0670532693034494   \n",
       "TWSE                       514029  10634.424502411171    2634.424687513897   \n",
       "TWSE_rate                  514029  11.010910571195748   14.819830572673139   \n",
       "unemployment_rate          514029  3.8804003081538196  0.20555663647068112   \n",
       "income_rate                514029   4.334436014309833   2.3564997882203684   \n",
       "GDP                        514029   4581300.790165535    430102.9021211484   \n",
       "GDP_rate                   514029  3.3754071073810543    1.850827860066842   \n",
       "\n",
       "                                   3                   4  \n",
       "summary                          min                 max  \n",
       "percent                          0.0               100.0  \n",
       "parking_price                    0.0             19720.0  \n",
       "age                              0.0                88.0  \n",
       "latitude                         0.0   25.29294802135113  \n",
       "longitude                        0.0  121.92797110266169  \n",
       "area                            0.02            10738.54  \n",
       "total_price                      0.1            186978.1  \n",
       "room                             0.0               784.0  \n",
       "living                           0.0                80.0  \n",
       "bath                             0.0               817.0  \n",
       "interest rate                  1.346                1.99  \n",
       "CCI                            99.16              125.81  \n",
       "CCI_rate                        -4.7               13.71  \n",
       "CPI                             96.5              105.62  \n",
       "CPI_rate                       -1.21                2.97  \n",
       "M1A_rate                        2.01               21.74  \n",
       "M1B_rate                        3.11               18.57  \n",
       "M2_rate                         2.92                9.23  \n",
       "load_house_rate                 2.87               10.42  \n",
       "load_archi_rate                -2.77                18.7  \n",
       "NonPerforming_Loans_Ratio       0.17                0.43  \n",
       "TWSE                         7850.02            18218.84  \n",
       "TWSE_rate                     -14.69               69.25  \n",
       "unemployment_rate               3.62                 4.8  \n",
       "income_rate                     0.36                7.84  \n",
       "GDP                        3798607.0           5604822.0  \n",
       "GDP_rate                       -0.28                 9.2  "
      ]
     },
     "execution_count": 91,
     "metadata": {},
     "output_type": "execute_result"
    }
   ],
   "source": [
    "numeric_features = [t[0] for t in df.dtypes if t[1] == 'double']\n",
    "df.select(numeric_features).describe().toPandas().transpose()"
   ]
  },
  {
   "cell_type": "code",
   "execution_count": 92,
   "id": "193a3f95-b0eb-4334-b0aa-b416ee265abd",
   "metadata": {},
   "outputs": [
    {
     "name": "stdout",
     "output_type": "stream",
     "text": [
      "+-------+-------------+-----+-----+----+------------------+------------------+----------+-----+-----------+----+------+----+-------------+------+--------+------+--------+-------+--------+--------+--------+--------+-------+----------+---------------+----------+---------------+-------------------------+--------+---------+-----------------+--------+-----------+---------+--------+--------------------+\n",
      "|percent|parking_price| date|floor| age|          latitude|         longitude|management| area|total_price|room|living|bath|interest rate|   CCI|CCI_rate|   CPI|CPI_rate|    M1A|M1A_rate|     M1B|M1B_rate|      M2|M2_rate|load_house|load_house_rate|load_archi|load_archi_rate|NonPerforming_Loans_Ratio|    TWSE|TWSE_rate|unemployment_rate|  income|income_rate|      GDP|GDP_rate|            features|\n",
      "+-------+-------------+-----+-----+----+------------------+------------------+----------+-----+-----------+----+------+----+-------------+------+--------+------+--------+-------+--------+--------+--------+--------+-------+----------+---------------+----------+---------------+-------------------------+--------+---------+-----------------+--------+-----------+---------+--------+--------------------+\n",
      "|   63.8|          0.0|11012|    2|34.0|25.055331674864203| 121.5376145905065|         1|10.52|      876.0| 1.0|   1.0| 1.0|        1.355|125.68|   11.31|105.41|    2.63|9940457|   14.28|24758016|   12.75|53709010|   8.02|   8803024|           9.46|   2808431|          14.11|                     0.17|18218.84|    23.66|             3.64|17198616|        5.2|5604822.0|    4.86|[63.8,0.0,34.0,25...|\n",
      "|   48.9|        180.0|11012|    5| 6.0| 25.05682409251319| 121.5267584666694|         1|46.39|     3188.0| 3.0|   2.0| 1.0|        1.355|125.68|   11.31|105.41|    2.63|9940457|   14.28|24758016|   12.75|53709010|   8.02|   8803024|           9.46|   2808431|          14.11|                     0.17|18218.84|    23.66|             3.64|17198616|        5.2|5604822.0|    4.86|[48.9,180.0,6.0,2...|\n",
      "|   83.3|        500.0|11012|    7|33.0|25.055016099844707|121.53750419269846|         1|82.75|     4052.6| 3.0|   0.0| 0.0|        1.355|125.68|   11.31|105.41|    2.63|9940457|   14.28|24758016|   12.75|53709010|   8.02|   8803024|           9.46|   2808431|          14.11|                     0.17|18218.84|    23.66|             3.64|17198616|        5.2|5604822.0|    4.86|[83.3,500.0,33.0,...|\n",
      "|   80.2|        300.0|11012|    7|33.0|25.055016099844707|121.53750419269846|         1| 85.5|     4811.7| 4.0|   0.0| 0.0|        1.355|125.68|   11.31|105.41|    2.63|9940457|   14.28|24758016|   12.75|53709010|   8.02|   8803024|           9.46|   2808431|          14.11|                     0.17|18218.84|    23.66|             3.64|17198616|        5.2|5604822.0|    4.86|[80.2,300.0,33.0,...|\n",
      "|   70.1|          0.0|11012|    4|36.0| 25.05774237570079| 121.5249387233178|         1|28.67|     1200.0| 2.0|   1.0| 1.0|        1.355|125.68|   11.31|105.41|    2.63|9940457|   14.28|24758016|   12.75|53709010|   8.02|   8803024|           9.46|   2808431|          14.11|                     0.17|18218.84|    23.66|             3.64|17198616|        5.2|5604822.0|    4.86|[70.1,0.0,36.0,25...|\n",
      "|   43.5|        340.0|11012|    6| 0.0|25.067616867046603|121.52300830460516|         1|51.57|     3994.0| 2.0|   2.0| 2.0|        1.355|125.68|   11.31|105.41|    2.63|9940457|   14.28|24758016|   12.75|53709010|   8.02|   8803024|           9.46|   2808431|          14.11|                     0.17|18218.84|    23.66|             3.64|17198616|        5.2|5604822.0|    4.86|[43.5,340.0,0.0,2...|\n",
      "|   80.6|          0.0|11012|   12|40.0|25.063683570082755|121.52728338005475|         1| 9.26|      600.0| 1.0|   1.0| 1.0|        1.355|125.68|   11.31|105.41|    2.63|9940457|   14.28|24758016|   12.75|53709010|   8.02|   8803024|           9.46|   2808431|          14.11|                     0.17|18218.84|    23.66|             3.64|17198616|        5.2|5604822.0|    4.86|[80.6,0.0,40.0,25...|\n",
      "|   39.9|          0.0|11012|   11|12.0|25.064799132400005|121.52328378311664|         1|19.31|     1056.0| 1.0|   1.0| 1.0|        1.355|125.68|   11.31|105.41|    2.63|9940457|   14.28|24758016|   12.75|53709010|   8.02|   8803024|           9.46|   2808431|          14.11|                     0.17|18218.84|    23.66|             3.64|17198616|        5.2|5604822.0|    4.86|[39.9,0.0,12.0,25...|\n",
      "|   58.3|          0.0|11012|    9|40.0|25.055531865683083|121.52709983028392|         1|17.45|     1089.0| 2.0|   1.0| 1.0|        1.355|125.68|   11.31|105.41|    2.63|9940457|   14.28|24758016|   12.75|53709010|   8.02|   8803024|           9.46|   2808431|          14.11|                     0.17|18218.84|    23.66|             3.64|17198616|        5.2|5604822.0|    4.86|[58.3,0.0,40.0,25...|\n",
      "|   45.2|        160.0|11012|    2| 6.0| 25.05682409251319| 121.5267584666694|         1| 39.2|     2379.0| 2.0|   2.0| 1.0|        1.355|125.68|   11.31|105.41|    2.63|9940457|   14.28|24758016|   12.75|53709010|   8.02|   8803024|           9.46|   2808431|          14.11|                     0.17|18218.84|    23.66|             3.64|17198616|        5.2|5604822.0|    4.86|[45.2,160.0,6.0,2...|\n",
      "|   80.3|          0.0|11012|    5|42.0| 25.06649455259456|121.52636368971844|         1|17.52|      950.0| 2.0|   1.0| 1.0|        1.355|125.68|   11.31|105.41|    2.63|9940457|   14.28|24758016|   12.75|53709010|   8.02|   8803024|           9.46|   2808431|          14.11|                     0.17|18218.84|    23.66|             3.64|17198616|        5.2|5604822.0|    4.86|[80.3,0.0,42.0,25...|\n",
      "|   49.9|          0.0|11012|   10|21.0| 25.07861975800188|121.55833508094862|         1|47.03|     2950.0| 3.0|   2.0| 2.0|        1.355|125.68|   11.31|105.41|    2.63|9940457|   14.28|24758016|   12.75|53709010|   8.02|   8803024|           9.46|   2808431|          14.11|                     0.17|18218.84|    23.66|             3.64|17198616|        5.2|5604822.0|    4.86|[49.9,0.0,21.0,25...|\n",
      "|   76.1|          0.0|11012|    5|36.0| 25.05688266993918| 121.5430824057112|         1|34.67|     2758.0| 3.0|   2.0| 2.0|        1.355|125.68|   11.31|105.41|    2.63|9940457|   14.28|24758016|   12.75|53709010|   8.02|   8803024|           9.46|   2808431|          14.11|                     0.17|18218.84|    23.66|             3.64|17198616|        5.2|5604822.0|    4.86|[76.1,0.0,36.0,25...|\n",
      "|   75.3|          0.0|11012|    9|36.0| 25.05688266993918| 121.5430824057112|         1|11.18|      350.0| 3.0|   2.0| 1.0|        1.355|125.68|   11.31|105.41|    2.63|9940457|   14.28|24758016|   12.75|53709010|   8.02|   8803024|           9.46|   2808431|          14.11|                     0.17|18218.84|    23.66|             3.64|17198616|        5.2|5604822.0|    4.86|[75.3,0.0,36.0,25...|\n",
      "|   45.2|        180.0|11012|    6| 6.0| 25.05682409251319| 121.5267584666694|         1| 39.2|     2468.0| 2.0|   2.0| 1.0|        1.355|125.68|   11.31|105.41|    2.63|9940457|   14.28|24758016|   12.75|53709010|   8.02|   8803024|           9.46|   2808431|          14.11|                     0.17|18218.84|    23.66|             3.64|17198616|        5.2|5604822.0|    4.86|[45.2,180.0,6.0,2...|\n",
      "|   53.5|          0.0|11012|    6|24.0|  25.0568136924804|121.52714495775128|         1|17.15|     1050.0| 2.0|   1.0| 1.0|        1.355|125.68|   11.31|105.41|    2.63|9940457|   14.28|24758016|   12.75|53709010|   8.02|   8803024|           9.46|   2808431|          14.11|                     0.17|18218.84|    23.66|             3.64|17198616|        5.2|5604822.0|    4.86|[53.5,0.0,24.0,25...|\n",
      "|  100.0|          0.0|11012|    6|50.0|25.057157044641382|121.52706713699573|         1|12.48|      550.0| 1.0|   1.0| 1.0|        1.355|125.68|   11.31|105.41|    2.63|9940457|   14.28|24758016|   12.75|53709010|   8.02|   8803024|           9.46|   2808431|          14.11|                     0.17|18218.84|    23.66|             3.64|17198616|        5.2|5604822.0|    4.86|[100.0,0.0,50.0,2...|\n",
      "|   44.4|          0.0|11012|   12|10.0| 25.06599874875719|121.52615342095103|         1| 44.0|     2750.0| 1.0|   2.0| 1.0|        1.355|125.68|   11.31|105.41|    2.63|9940457|   14.28|24758016|   12.75|53709010|   8.02|   8803024|           9.46|   2808431|          14.11|                     0.17|18218.84|    23.66|             3.64|17198616|        5.2|5604822.0|    4.86|[44.4,0.0,10.0,25...|\n",
      "|   43.1|          0.0|11012|    7|14.0|25.083847025428263| 121.5535012687133|         1|33.96|     2419.0| 2.0|   2.0| 1.0|        1.355|125.68|   11.31|105.41|    2.63|9940457|   14.28|24758016|   12.75|53709010|   8.02|   8803024|           9.46|   2808431|          14.11|                     0.17|18218.84|    23.66|             3.64|17198616|        5.2|5604822.0|    4.86|[43.1,0.0,14.0,25...|\n",
      "|   63.0|          0.0|11012|    6|14.0| 25.04815591475468|121.53718687406445|         1|21.87|     1782.0| 1.0|   2.0| 1.0|        1.355|125.68|   11.31|105.41|    2.63|9940457|   14.28|24758016|   12.75|53709010|   8.02|   8803024|           9.46|   2808431|          14.11|                     0.17|18218.84|    23.66|             3.64|17198616|        5.2|5604822.0|    4.86|[63.0,0.0,14.0,25...|\n",
      "+-------+-------------+-----+-----+----+------------------+------------------+----------+-----+-----------+----+------+----+-------------+------+--------+------+--------+-------+--------+--------+--------+--------+-------+----------+---------------+----------+---------------+-------------------------+--------+---------+-----------------+--------+-----------+---------+--------+--------------------+\n",
      "only showing top 20 rows\n",
      "\n"
     ]
    }
   ],
   "source": [
    "from pyspark.ml.feature import VectorAssembler\n",
    "\n",
    "numericCols = ['percent', 'parking_price', 'age', 'latitude','longitude','area','room','living','bath','interest rate','CCI','CCI_rate','CPI','CPI_rate','M1A_rate','M1B_rate','M2_rate','load_house_rate','NonPerforming_Loans_Ratio','TWSE','TWSE_rate','unemployment_rate','income_rate','GDP','GDP_rate']\n",
    "assembler = VectorAssembler(inputCols=numericCols, outputCol=\"features\")\n",
    "df = assembler.transform(df)\n",
    "df.show()"
   ]
  },
  {
   "cell_type": "code",
   "execution_count": null,
   "id": "181d839f-090a-44ba-a9eb-57c9d1d0d1cf",
   "metadata": {},
   "outputs": [],
   "source": [
    "from pyspark.ml.feature import StringIndexer\n",
    "\n",
    "label_stringIdx = StringIndexer(inputCol = 'total_price', outputCol = 'label')\n",
    "df = label_stringIdx.fit(df).transform(df)\n",
    "df.show()"
   ]
  },
  {
   "cell_type": "code",
   "execution_count": null,
   "id": "fe00c808-3a6e-45c9-8b82-831702f16635",
   "metadata": {},
   "outputs": [],
   "source": [
    "train, test = df.randomSplit([0.8, 0.2], seed = 1)\n",
    "print(\"Training Dataset Count: \" + str(train.count()))\n",
    "print(\"Test Dataset Count: \" + str(test.count()))"
   ]
  },
  {
   "cell_type": "code",
   "execution_count": null,
   "id": "f1f40d1b-92ca-4ea1-ad02-4ca85f511843",
   "metadata": {},
   "outputs": [],
   "source": [
    "from pyspark.ml.classification import RandomForestClassifier\n",
    "from pyspark.ml.evaluation import RegressionEvaluator\n",
    "from pyspark.ml.tuning import ParamGridBuilder, CrossValidator"
   ]
  },
  {
   "cell_type": "markdown",
   "id": "ea916f28-cbd9-4793-ae30-ac628b72b05f",
   "metadata": {},
   "source": [
    "---"
   ]
  },
  {
   "cell_type": "markdown",
   "id": "645b1540-5c69-420d-adf2-0e8a5ef3a9b9",
   "metadata": {},
   "source": [
    "## RandomForestRegressor"
   ]
  },
  {
   "cell_type": "code",
   "execution_count": 11,
   "id": "bec15457-2110-4ab0-ae13-daeb0e0beef6",
   "metadata": {},
   "outputs": [],
   "source": [
    "from pyspark.ml.regression import RandomForestRegressor\n",
    "from pyspark.ml.evaluation import RegressionEvaluator\n",
    "from pyspark.ml.tuning import ParamGridBuilder, CrossValidator\n",
    "from pyspark.ml.feature import StringIndexer\n",
    "from pyspark.ml.feature import VectorAssembler"
   ]
  },
  {
   "cell_type": "code",
   "execution_count": 24,
   "id": "9448fd64-ac03-47ff-9306-35fe96f15472",
   "metadata": {
    "tags": []
   },
   "outputs": [
    {
     "name": "stderr",
     "output_type": "stream",
     "text": [
      "                                                                                \r"
     ]
    }
   ],
   "source": [
    "df = spark.read.csv('2.2.2_ML_financial.csv', header = True, inferSchema = True)"
   ]
  },
  {
   "cell_type": "code",
   "execution_count": 25,
   "id": "0e0e0f06-ce98-4ca0-afcd-32172591b24b",
   "metadata": {},
   "outputs": [
    {
     "name": "stdout",
     "output_type": "stream",
     "text": [
      "root\n",
      " |-- percent: double (nullable = true)\n",
      " |-- parking_price: double (nullable = true)\n",
      " |-- date: integer (nullable = true)\n",
      " |-- floor: integer (nullable = true)\n",
      " |-- age: double (nullable = true)\n",
      " |-- latitude: double (nullable = true)\n",
      " |-- longitude: double (nullable = true)\n",
      " |-- management: integer (nullable = true)\n",
      " |-- area: double (nullable = true)\n",
      " |-- total_price: double (nullable = true)\n",
      " |-- room: double (nullable = true)\n",
      " |-- living: double (nullable = true)\n",
      " |-- bath: double (nullable = true)\n",
      " |-- interest rate: double (nullable = true)\n",
      " |-- CCI: double (nullable = true)\n",
      " |-- CCI_rate: double (nullable = true)\n",
      " |-- CPI: double (nullable = true)\n",
      " |-- CPI_rate: double (nullable = true)\n",
      " |-- M1A: integer (nullable = true)\n",
      " |-- M1A_rate: double (nullable = true)\n",
      " |-- M1B: integer (nullable = true)\n",
      " |-- M1B_rate: double (nullable = true)\n",
      " |-- M2: integer (nullable = true)\n",
      " |-- M2_rate: double (nullable = true)\n",
      " |-- load_house: integer (nullable = true)\n",
      " |-- load_house_rate: double (nullable = true)\n",
      " |-- load_archi: integer (nullable = true)\n",
      " |-- load_archi_rate: double (nullable = true)\n",
      " |-- NonPerforming_Loans_Ratio: double (nullable = true)\n",
      " |-- TWSE: double (nullable = true)\n",
      " |-- TWSE_rate: double (nullable = true)\n",
      " |-- unemployment_rate: double (nullable = true)\n",
      " |-- income: integer (nullable = true)\n",
      " |-- income_rate: double (nullable = true)\n",
      " |-- GDP: double (nullable = true)\n",
      " |-- GDP_rate: double (nullable = true)\n",
      "\n"
     ]
    }
   ],
   "source": [
    "df = df.drop('district','avg','style','address')\n",
    "df.printSchema()"
   ]
  },
  {
   "cell_type": "code",
   "execution_count": 26,
   "id": "5fb1af04-44bc-4a6a-b0ee-d64f949f9e79",
   "metadata": {},
   "outputs": [],
   "source": [
    "(trainingData, testData) = df.randomSplit([0.8, 0.2])"
   ]
  },
  {
   "cell_type": "code",
   "execution_count": 42,
   "id": "7605c245-0688-46e9-830c-2963f5b30a6b",
   "metadata": {},
   "outputs": [],
   "source": [
    "# 移除total_price特徵\n",
    "feature_list = []\n",
    "for col in df.columns:\n",
    "    if col == 'total_price':\n",
    "        continue\n",
    "    else:\n",
    "        feature_list.append(col)\n",
    "        \n",
    "assembler = VectorAssembler(inputCols=feature_list, outputCol=\"features\")"
   ]
  },
  {
   "cell_type": "code",
   "execution_count": 53,
   "id": "75758fa0-f40e-4bfd-8b7e-870d5477f30d",
   "metadata": {},
   "outputs": [],
   "source": [
    "rf = RandomForestRegressor(labelCol=\"total_price\", featuresCol=\"features\", numTrees=100)"
   ]
  },
  {
   "cell_type": "code",
   "execution_count": 54,
   "id": "49b25cd2-edc2-4ea9-b311-904e3cfcbf13",
   "metadata": {},
   "outputs": [],
   "source": [
    "pipeline = Pipeline(stages=[assembler, rf])"
   ]
  },
  {
   "cell_type": "code",
   "execution_count": 55,
   "id": "fcfa92aa-3b9b-4b33-9a7e-77841e353f1c",
   "metadata": {},
   "outputs": [],
   "source": [
    "rfevaluator = RegressionEvaluator(labelCol=\"total_price\", predictionCol=\"prediction\")\n",
    "\n",
    "rfparamGrid = (ParamGridBuilder()             \n",
    "               #.addGrid(rf.maxDepth, [10])             \n",
    "               #.addGrid(rf.maxBins, [20])             \n",
    "               .addGrid(rf.numTrees, [100])\n",
    "               .build())\n",
    "\n",
    "rfcv = CrossValidator(estimator = pipeline,\n",
    "                      estimatorParamMaps = rfparamGrid,\n",
    "                      evaluator = rfevaluator,\n",
    "                      numFolds = 5)"
   ]
  },
  {
   "cell_type": "code",
   "execution_count": 29,
   "id": "2b108ae0-ca2f-4411-a972-31573b1c8a88",
   "metadata": {},
   "outputs": [
    {
     "name": "stderr",
     "output_type": "stream",
     "text": [
      "                                                                                \r"
     ]
    }
   ],
   "source": [
    "rfcvModel = rfcv.fit(trainingData)"
   ]
  },
  {
   "cell_type": "code",
   "execution_count": 30,
   "id": "cf63f2c4-1894-4879-b3a7-4817f1380177",
   "metadata": {},
   "outputs": [
    {
     "name": "stderr",
     "output_type": "stream",
     "text": [
      "[Stage 250:=============================================>         (15 + 3) / 18]\r"
     ]
    },
    {
     "name": "stdout",
     "output_type": "stream",
     "text": [
      "r2: 0.5796537060794487\n"
     ]
    },
    {
     "name": "stderr",
     "output_type": "stream",
     "text": [
      "                                                                                \r"
     ]
    },
    {
     "name": "stdout",
     "output_type": "stream",
     "text": [
      "mae: 405.51044425984963\n"
     ]
    },
    {
     "name": "stderr",
     "output_type": "stream",
     "text": [
      "[Stage 254:=============================================>         (15 + 3) / 18]\r"
     ]
    },
    {
     "name": "stdout",
     "output_type": "stream",
     "text": [
      "mse: 712732.6345372349\n"
     ]
    },
    {
     "name": "stderr",
     "output_type": "stream",
     "text": [
      "                                                                                \r"
     ]
    }
   ],
   "source": [
    "rfpredictions = rfcvModel.transform(testData)\n",
    "\n",
    "print('r2:', rfevaluator.evaluate(rfpredictions,{rfevaluator.metricName: \"r2\"}))\n",
    "print('mae:', rfevaluator.evaluate(rfpredictions,{rfevaluator.metricName: \"mae\"}))\n",
    "print('mse:', rfevaluator.evaluate(rfpredictions,{rfevaluator.metricName: \"mse\"}))"
   ]
  },
  {
   "cell_type": "code",
   "execution_count": 35,
   "id": "9e0588d1-539d-4ede-96d8-e5bd9436b97d",
   "metadata": {},
   "outputs": [],
   "source": [
    "bestPipeline = rfcvModel.bestModel\n",
    "bestModel = bestPipeline.stages[1]\n",
    "importances = bestModel.featureImportances"
   ]
  },
  {
   "cell_type": "markdown",
   "id": "31231995-bfd4-4663-a52d-6a5dd7ed5b26",
   "metadata": {},
   "source": [
    "---"
   ]
  },
  {
   "cell_type": "markdown",
   "id": "4cdb4288-5ad9-4df3-8730-85d8c97d4460",
   "metadata": {},
   "source": [
    "## Run one model to check time"
   ]
  },
  {
   "cell_type": "code",
   "execution_count": 74,
   "id": "148903cf-14e3-4cc7-ba7c-d9dfb41e3e5e",
   "metadata": {
    "tags": []
   },
   "outputs": [
    {
     "name": "stderr",
     "output_type": "stream",
     "text": [
      "                                                                                \r"
     ]
    }
   ],
   "source": [
    "df = spark.read.csv('2.2.2_ML_financial.csv', header = True, inferSchema = True)"
   ]
  },
  {
   "cell_type": "code",
   "execution_count": 75,
   "id": "555324a4-8cb3-4f60-9520-47f816b62c11",
   "metadata": {},
   "outputs": [
    {
     "name": "stdout",
     "output_type": "stream",
     "text": [
      "root\n",
      " |-- percent: double (nullable = true)\n",
      " |-- parking_price: double (nullable = true)\n",
      " |-- date: integer (nullable = true)\n",
      " |-- floor: integer (nullable = true)\n",
      " |-- age: double (nullable = true)\n",
      " |-- latitude: double (nullable = true)\n",
      " |-- longitude: double (nullable = true)\n",
      " |-- management: integer (nullable = true)\n",
      " |-- area: double (nullable = true)\n",
      " |-- total_price: double (nullable = true)\n",
      " |-- room: double (nullable = true)\n",
      " |-- living: double (nullable = true)\n",
      " |-- bath: double (nullable = true)\n",
      " |-- interest rate: double (nullable = true)\n",
      " |-- CCI: double (nullable = true)\n",
      " |-- CCI_rate: double (nullable = true)\n",
      " |-- CPI: double (nullable = true)\n",
      " |-- CPI_rate: double (nullable = true)\n",
      " |-- M1A: integer (nullable = true)\n",
      " |-- M1A_rate: double (nullable = true)\n",
      " |-- M1B: integer (nullable = true)\n",
      " |-- M1B_rate: double (nullable = true)\n",
      " |-- M2: integer (nullable = true)\n",
      " |-- M2_rate: double (nullable = true)\n",
      " |-- load_house: integer (nullable = true)\n",
      " |-- load_house_rate: double (nullable = true)\n",
      " |-- load_archi: integer (nullable = true)\n",
      " |-- load_archi_rate: double (nullable = true)\n",
      " |-- NonPerforming_Loans_Ratio: double (nullable = true)\n",
      " |-- TWSE: double (nullable = true)\n",
      " |-- TWSE_rate: double (nullable = true)\n",
      " |-- unemployment_rate: double (nullable = true)\n",
      " |-- income: integer (nullable = true)\n",
      " |-- income_rate: double (nullable = true)\n",
      " |-- GDP: double (nullable = true)\n",
      " |-- GDP_rate: double (nullable = true)\n",
      "\n"
     ]
    }
   ],
   "source": [
    "df = df.drop('district','avg','style','address')\n",
    "df.printSchema()"
   ]
  },
  {
   "cell_type": "code",
   "execution_count": 79,
   "id": "567c3270-bbf2-4558-989d-a1e1c8648940",
   "metadata": {},
   "outputs": [],
   "source": [
    "# 特徵全拿\n",
    "feature_list = []\n",
    "for col in df.columns:\n",
    "    feature_list.append(col)\n",
    "assembler = VectorAssembler(inputCols=feature_list, outputCol=\"features\")"
   ]
  },
  {
   "cell_type": "code",
   "execution_count": 80,
   "id": "5fb422de-5f21-4388-9dba-e9bef3c951d1",
   "metadata": {},
   "outputs": [],
   "source": [
    "(trainingData, testData) = df.randomSplit([0.8, 0.2], seed=1)"
   ]
  },
  {
   "cell_type": "code",
   "execution_count": 81,
   "id": "3e7fd6cc-1769-4903-8ad8-65bc06c21b57",
   "metadata": {},
   "outputs": [],
   "source": [
    "pipeline = Pipeline(stages=[assembler, rf])"
   ]
  },
  {
   "cell_type": "code",
   "execution_count": 85,
   "id": "0e834801-599a-4388-9393-e53f16fe55a1",
   "metadata": {},
   "outputs": [
    {
     "name": "stderr",
     "output_type": "stream",
     "text": [
      "                                                                                \r"
     ]
    },
    {
     "name": "stdout",
     "output_type": "stream",
     "text": [
      "mse: 99279.43450531649\n"
     ]
    },
    {
     "name": "stderr",
     "output_type": "stream",
     "text": [
      "                                                                                \r"
     ]
    },
    {
     "name": "stdout",
     "output_type": "stream",
     "text": [
      "r2: 0.9163941391818047\n"
     ]
    },
    {
     "name": "stderr",
     "output_type": "stream",
     "text": [
      "                                                                                \r"
     ]
    },
    {
     "name": "stdout",
     "output_type": "stream",
     "text": [
      "mse: 99279.43450531649\n"
     ]
    },
    {
     "name": "stderr",
     "output_type": "stream",
     "text": [
      "                                                                                \r"
     ]
    },
    {
     "name": "stdout",
     "output_type": "stream",
     "text": [
      "r2: 0.9163941391818047\n"
     ]
    },
    {
     "name": "stderr",
     "output_type": "stream",
     "text": [
      "                                                                                \r"
     ]
    },
    {
     "name": "stdout",
     "output_type": "stream",
     "text": [
      "mse: 99188.29129187236\n"
     ]
    },
    {
     "name": "stderr",
     "output_type": "stream",
     "text": [
      "                                                                                \r"
     ]
    },
    {
     "name": "stdout",
     "output_type": "stream",
     "text": [
      "r2: 0.9164708933137727\n"
     ]
    },
    {
     "name": "stderr",
     "output_type": "stream",
     "text": [
      "                                                                                \r"
     ]
    },
    {
     "name": "stdout",
     "output_type": "stream",
     "text": [
      "mse: 99279.43450531649\n"
     ]
    },
    {
     "name": "stderr",
     "output_type": "stream",
     "text": [
      "                                                                                \r"
     ]
    },
    {
     "name": "stdout",
     "output_type": "stream",
     "text": [
      "r2: 0.9163941391818047\n"
     ]
    },
    {
     "name": "stderr",
     "output_type": "stream",
     "text": [
      "                                                                                \r"
     ]
    },
    {
     "name": "stdout",
     "output_type": "stream",
     "text": [
      "mse: 99279.43450531649\n"
     ]
    },
    {
     "name": "stderr",
     "output_type": "stream",
     "text": [
      "                                                                                \r"
     ]
    },
    {
     "name": "stdout",
     "output_type": "stream",
     "text": [
      "r2: 0.9163941391818047\n"
     ]
    },
    {
     "name": "stderr",
     "output_type": "stream",
     "text": [
      "                                                                                \r"
     ]
    },
    {
     "name": "stdout",
     "output_type": "stream",
     "text": [
      "mse: 99279.43450531649\n"
     ]
    },
    {
     "name": "stderr",
     "output_type": "stream",
     "text": [
      "                                                                                \r"
     ]
    },
    {
     "name": "stdout",
     "output_type": "stream",
     "text": [
      "r2: 0.9163941391818047\n"
     ]
    },
    {
     "name": "stderr",
     "output_type": "stream",
     "text": [
      "                                                                                \r"
     ]
    },
    {
     "name": "stdout",
     "output_type": "stream",
     "text": [
      "mse: 99188.29129187236\n"
     ]
    },
    {
     "name": "stderr",
     "output_type": "stream",
     "text": [
      "                                                                                \r"
     ]
    },
    {
     "name": "stdout",
     "output_type": "stream",
     "text": [
      "r2: 0.9164708933137727\n"
     ]
    },
    {
     "name": "stderr",
     "output_type": "stream",
     "text": [
      "[Stage 682:================================================>      (16 + 2) / 18]\r"
     ]
    },
    {
     "name": "stdout",
     "output_type": "stream",
     "text": [
      "mse: 99279.43450531649\n"
     ]
    },
    {
     "name": "stderr",
     "output_type": "stream",
     "text": [
      "[Stage 684:===================================================>   (17 + 1) / 18]\r"
     ]
    },
    {
     "name": "stdout",
     "output_type": "stream",
     "text": [
      "r2: 0.9163941391818047\n",
      "24.9 s ± 193 ms per loop (mean ± std. dev. of 7 runs, 1 loop each)\n"
     ]
    },
    {
     "name": "stderr",
     "output_type": "stream",
     "text": [
      "                                                                                \r"
     ]
    }
   ],
   "source": [
    "%%timeit\n",
    "rf = RandomForestRegressor(labelCol=\"total_price\", featuresCol=\"features\", numTrees=100)\n",
    "\n",
    "pipeline = Pipeline(stages=[assembler, rf])\n",
    "\n",
    "rfModel = pipeline.fit(trainingData)\n",
    "\n",
    "rfevaluator = RegressionEvaluator(labelCol=\"total_price\", predictionCol=\"prediction\")\n",
    "\n",
    "rfpredictions = rfModel.transform(testData)\n",
    "\n",
    "\n",
    "print('mse:', rfevaluator.evaluate(rfpredictions,{rfevaluator.metricName: \"mse\"}))\n",
    "print('r2:', rfevaluator.evaluate(rfpredictions,{rfevaluator.metricName: \"r2\"}))"
   ]
  },
  {
   "cell_type": "markdown",
   "id": "18b078bd-8c58-45f7-bd2e-8bbd5d45e048",
   "metadata": {},
   "source": [
    "----"
   ]
  },
  {
   "cell_type": "code",
   "execution_count": null,
   "id": "2249c38d-0cc6-471b-b05b-4c22f2995a64",
   "metadata": {},
   "outputs": [],
   "source": [
    "import pandas as pd\n",
    "import numpy as np\n",
    "from sklearn.model_selection import train_test_split\n",
    "from sklearn import preprocessing\n",
    "from sklearn.metrics import accuracy_score, confusion_matrix\n",
    "from sklearn.tree import DecisionTreeRegressor\n",
    "from sklearn.ensemble import RandomForestClassifier\n",
    "from sklearn.datasets import make_classification\n",
    "from sklearn import linear_model\n",
    "from sklearn.metrics import mean_squared_error, r2_score\n",
    "from sklearn.ensemble import RandomForestRegressor\n",
    "import matplotlib.pyplot as plt \n",
    "plt.style.use('seaborn-whitegrid')\n",
    "%matplotlib inline "
   ]
  },
  {
   "cell_type": "code",
   "execution_count": null,
   "id": "76c394cb-924d-4bab-934c-927c3af0a54a",
   "metadata": {},
   "outputs": [],
   "source": [
    "train = train.toPandas()\n",
    "test = test.toPandas()"
   ]
  },
  {
   "cell_type": "code",
   "execution_count": null,
   "id": "99dd3980-6750-485e-a0af-1a6e937c890e",
   "metadata": {},
   "outputs": [],
   "source": [
    "df_pd = pd.concat([train,test],axis=0)"
   ]
  },
  {
   "cell_type": "code",
   "execution_count": null,
   "id": "ea1fedb4-33fb-4a44-8cc1-5e0f362758b3",
   "metadata": {},
   "outputs": [],
   "source": [
    "X = df_pd.drop(['features'], axis=1)\n",
    "y = df_pd[['label']]"
   ]
  },
  {
   "cell_type": "code",
   "execution_count": null,
   "id": "495bf3bf-5361-4f0e-861a-8b9f222633ba",
   "metadata": {},
   "outputs": [],
   "source": [
    "from sklearn.ensemble import RandomForestRegressor\n",
    "X_train,X_test,y_train,y_test=train_test_split(X, y, test_size=0.2, random_state=1) #random_state 種子值\n",
    "\n",
    "scaler = preprocessing.StandardScaler().fit(X_train)\n",
    "\n",
    "X_train = scaler.transform(X_train)\n",
    "\n",
    "model = RandomForestRegressor(n_estimators=100, criterion = 'mse',) # 使用訓練資料訓練模型\n",
    "\n",
    "model.fit(X_train, y_train)\n",
    "\n",
    "X_test = scaler.transform(X_test)\n",
    "\n",
    "y_pred = model.predict(X_test)\n",
    "\n",
    "print(\"Mean squared error: {}\".format(mean_squared_error(y_test, y_pred)))\n",
    "\n",
    "print('R2 score: {}'.format(r2_score(y_test, y_pred)))\n"
   ]
  },
  {
   "cell_type": "markdown",
   "id": "7bc96f64-24f0-4fd4-b6a6-635b8b7488a0",
   "metadata": {},
   "source": [
    "---"
   ]
  }
 ],
 "metadata": {
  "kernelspec": {
   "display_name": "Python 3 (ipykernel)",
   "language": "python",
   "name": "python3"
  },
  "language_info": {
   "codemirror_mode": {
    "name": "ipython",
    "version": 3
   },
   "file_extension": ".py",
   "mimetype": "text/x-python",
   "name": "python",
   "nbconvert_exporter": "python",
   "pygments_lexer": "ipython3",
   "version": "3.8.10"
  }
 },
 "nbformat": 4,
 "nbformat_minor": 5
}
