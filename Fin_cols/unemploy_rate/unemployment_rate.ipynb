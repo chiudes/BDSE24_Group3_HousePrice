{
 "cells": [
  {
   "cell_type": "code",
   "execution_count": 1,
   "id": "9c5eec72",
   "metadata": {},
   "outputs": [],
   "source": [
    "import numpy as np\n",
    "import pandas as pd\n",
    "import matplotlib.pyplot as plt"
   ]
  },
  {
   "cell_type": "code",
   "execution_count": 2,
   "id": "f2174eea",
   "metadata": {},
   "outputs": [],
   "source": [
    "df=pd.read_csv(\"落後指標構成項目.csv\", header=[0])\n",
    "#pd.set_option(\"display.max_columns\", None)"
   ]
  },
  {
   "cell_type": "code",
   "execution_count": 3,
   "id": "6ae14588",
   "metadata": {
    "scrolled": true
   },
   "outputs": [
    {
     "data": {
      "text/html": [
       "<div>\n",
       "<style scoped>\n",
       "    .dataframe tbody tr th:only-of-type {\n",
       "        vertical-align: middle;\n",
       "    }\n",
       "\n",
       "    .dataframe tbody tr th {\n",
       "        vertical-align: top;\n",
       "    }\n",
       "\n",
       "    .dataframe thead th {\n",
       "        text-align: right;\n",
       "    }\n",
       "</style>\n",
       "<table border=\"1\" class=\"dataframe\">\n",
       "  <thead>\n",
       "    <tr style=\"text-align: right;\">\n",
       "      <th></th>\n",
       "      <th>Date</th>\n",
       "      <th>失業率(%)</th>\n",
       "      <th>製造業單位產出勞動成本指數(2011=100)</th>\n",
       "      <th>金融業隔夜拆款利率(年息百分比)</th>\n",
       "      <th>全體金融機構放款與投資(10億元)</th>\n",
       "      <th>製造業存貨價值(千元)</th>\n",
       "    </tr>\n",
       "  </thead>\n",
       "  <tbody>\n",
       "    <tr>\n",
       "      <th>0</th>\n",
       "      <td>198201</td>\n",
       "      <td>1.36</td>\n",
       "      <td>121.65</td>\n",
       "      <td>12.890</td>\n",
       "      <td>-</td>\n",
       "      <td>159946328</td>\n",
       "    </tr>\n",
       "    <tr>\n",
       "      <th>1</th>\n",
       "      <td>198202</td>\n",
       "      <td>1.62</td>\n",
       "      <td>96.58</td>\n",
       "      <td>14.830</td>\n",
       "      <td>-</td>\n",
       "      <td>165470731</td>\n",
       "    </tr>\n",
       "    <tr>\n",
       "      <th>2</th>\n",
       "      <td>198203</td>\n",
       "      <td>1.32</td>\n",
       "      <td>84.16</td>\n",
       "      <td>11.720</td>\n",
       "      <td>-</td>\n",
       "      <td>163420163</td>\n",
       "    </tr>\n",
       "    <tr>\n",
       "      <th>3</th>\n",
       "      <td>198204</td>\n",
       "      <td>1.49</td>\n",
       "      <td>87.20</td>\n",
       "      <td>11.870</td>\n",
       "      <td>-</td>\n",
       "      <td>161756961</td>\n",
       "    </tr>\n",
       "    <tr>\n",
       "      <th>4</th>\n",
       "      <td>198205</td>\n",
       "      <td>1.98</td>\n",
       "      <td>86.56</td>\n",
       "      <td>11.990</td>\n",
       "      <td>-</td>\n",
       "      <td>161732827</td>\n",
       "    </tr>\n",
       "    <tr>\n",
       "      <th>...</th>\n",
       "      <td>...</td>\n",
       "      <td>...</td>\n",
       "      <td>...</td>\n",
       "      <td>...</td>\n",
       "      <td>...</td>\n",
       "      <td>...</td>\n",
       "    </tr>\n",
       "    <tr>\n",
       "      <th>478</th>\n",
       "      <td>202111</td>\n",
       "      <td>3.66</td>\n",
       "      <td>79.21</td>\n",
       "      <td>0.082</td>\n",
       "      <td>49320</td>\n",
       "      <td>791282636</td>\n",
       "    </tr>\n",
       "    <tr>\n",
       "      <th>479</th>\n",
       "      <td>202112</td>\n",
       "      <td>3.64</td>\n",
       "      <td>81.39</td>\n",
       "      <td>0.083</td>\n",
       "      <td>49784</td>\n",
       "      <td>800992784</td>\n",
       "    </tr>\n",
       "    <tr>\n",
       "      <th>480</th>\n",
       "      <td>202201</td>\n",
       "      <td>3.61</td>\n",
       "      <td>159.72</td>\n",
       "      <td>0.085</td>\n",
       "      <td>50211</td>\n",
       "      <td>795119370</td>\n",
       "    </tr>\n",
       "    <tr>\n",
       "      <th>481</th>\n",
       "      <td>202202</td>\n",
       "      <td>3.65</td>\n",
       "      <td>91.41</td>\n",
       "      <td>0.081</td>\n",
       "      <td>50256</td>\n",
       "      <td>811754362</td>\n",
       "    </tr>\n",
       "    <tr>\n",
       "      <th>482</th>\n",
       "      <td>202203</td>\n",
       "      <td>3.66</td>\n",
       "      <td>72.72</td>\n",
       "      <td>0.122</td>\n",
       "      <td>50654</td>\n",
       "      <td>820834586</td>\n",
       "    </tr>\n",
       "  </tbody>\n",
       "</table>\n",
       "<p>483 rows × 6 columns</p>\n",
       "</div>"
      ],
      "text/plain": [
       "       Date  失業率(%)  製造業單位產出勞動成本指數(2011=100)  金融業隔夜拆款利率(年息百分比)  \\\n",
       "0    198201    1.36                   121.65            12.890   \n",
       "1    198202    1.62                    96.58            14.830   \n",
       "2    198203    1.32                    84.16            11.720   \n",
       "3    198204    1.49                    87.20            11.870   \n",
       "4    198205    1.98                    86.56            11.990   \n",
       "..      ...     ...                      ...               ...   \n",
       "478  202111    3.66                    79.21             0.082   \n",
       "479  202112    3.64                    81.39             0.083   \n",
       "480  202201    3.61                   159.72             0.085   \n",
       "481  202202    3.65                    91.41             0.081   \n",
       "482  202203    3.66                    72.72             0.122   \n",
       "\n",
       "    全體金融機構放款與投資(10億元)  製造業存貨價值(千元)  \n",
       "0                   -    159946328  \n",
       "1                   -    165470731  \n",
       "2                   -    163420163  \n",
       "3                   -    161756961  \n",
       "4                   -    161732827  \n",
       "..                ...          ...  \n",
       "478             49320    791282636  \n",
       "479             49784    800992784  \n",
       "480             50211    795119370  \n",
       "481             50256    811754362  \n",
       "482             50654    820834586  \n",
       "\n",
       "[483 rows x 6 columns]"
      ]
     },
     "execution_count": 3,
     "metadata": {},
     "output_type": "execute_result"
    }
   ],
   "source": [
    "df"
   ]
  },
  {
   "cell_type": "code",
   "execution_count": 4,
   "id": "3a9175a4",
   "metadata": {},
   "outputs": [],
   "source": [
    "df = df.iloc[:,0:2]"
   ]
  },
  {
   "cell_type": "code",
   "execution_count": 5,
   "id": "3e1d2bc2",
   "metadata": {
    "scrolled": true
   },
   "outputs": [
    {
     "name": "stdout",
     "output_type": "stream",
     "text": [
      "<class 'pandas.core.frame.DataFrame'>\n",
      "RangeIndex: 483 entries, 0 to 482\n",
      "Data columns (total 2 columns):\n",
      " #   Column  Non-Null Count  Dtype  \n",
      "---  ------  --------------  -----  \n",
      " 0   Date    483 non-null    int64  \n",
      " 1   失業率(%)  483 non-null    float64\n",
      "dtypes: float64(1), int64(1)\n",
      "memory usage: 7.7 KB\n"
     ]
    }
   ],
   "source": [
    "df.info()"
   ]
  },
  {
   "cell_type": "code",
   "execution_count": 6,
   "id": "9118da02",
   "metadata": {},
   "outputs": [],
   "source": [
    "# df"
   ]
  },
  {
   "cell_type": "code",
   "execution_count": 7,
   "id": "2f9b1a21",
   "metadata": {
    "scrolled": true
   },
   "outputs": [],
   "source": [
    "# 轉換為民國年\n",
    "df['Date'] = df['Date']-191100\n",
    "df.rename(columns = {'Date':'ROC_year'}, inplace = True)\n",
    "df.rename(columns = {'失業率(%)':'unemployment_rate'}, inplace = True)"
   ]
  },
  {
   "cell_type": "code",
   "execution_count": 8,
   "id": "e9d01cdb",
   "metadata": {},
   "outputs": [
    {
     "data": {
      "text/html": [
       "<div>\n",
       "<style scoped>\n",
       "    .dataframe tbody tr th:only-of-type {\n",
       "        vertical-align: middle;\n",
       "    }\n",
       "\n",
       "    .dataframe tbody tr th {\n",
       "        vertical-align: top;\n",
       "    }\n",
       "\n",
       "    .dataframe thead th {\n",
       "        text-align: right;\n",
       "    }\n",
       "</style>\n",
       "<table border=\"1\" class=\"dataframe\">\n",
       "  <thead>\n",
       "    <tr style=\"text-align: right;\">\n",
       "      <th></th>\n",
       "      <th>ROC_year</th>\n",
       "      <th>unemployment_rate</th>\n",
       "    </tr>\n",
       "  </thead>\n",
       "  <tbody>\n",
       "    <tr>\n",
       "      <th>0</th>\n",
       "      <td>7101</td>\n",
       "      <td>1.36</td>\n",
       "    </tr>\n",
       "    <tr>\n",
       "      <th>1</th>\n",
       "      <td>7102</td>\n",
       "      <td>1.62</td>\n",
       "    </tr>\n",
       "    <tr>\n",
       "      <th>2</th>\n",
       "      <td>7103</td>\n",
       "      <td>1.32</td>\n",
       "    </tr>\n",
       "    <tr>\n",
       "      <th>3</th>\n",
       "      <td>7104</td>\n",
       "      <td>1.49</td>\n",
       "    </tr>\n",
       "    <tr>\n",
       "      <th>4</th>\n",
       "      <td>7105</td>\n",
       "      <td>1.98</td>\n",
       "    </tr>\n",
       "    <tr>\n",
       "      <th>...</th>\n",
       "      <td>...</td>\n",
       "      <td>...</td>\n",
       "    </tr>\n",
       "    <tr>\n",
       "      <th>478</th>\n",
       "      <td>11011</td>\n",
       "      <td>3.66</td>\n",
       "    </tr>\n",
       "    <tr>\n",
       "      <th>479</th>\n",
       "      <td>11012</td>\n",
       "      <td>3.64</td>\n",
       "    </tr>\n",
       "    <tr>\n",
       "      <th>480</th>\n",
       "      <td>11101</td>\n",
       "      <td>3.61</td>\n",
       "    </tr>\n",
       "    <tr>\n",
       "      <th>481</th>\n",
       "      <td>11102</td>\n",
       "      <td>3.65</td>\n",
       "    </tr>\n",
       "    <tr>\n",
       "      <th>482</th>\n",
       "      <td>11103</td>\n",
       "      <td>3.66</td>\n",
       "    </tr>\n",
       "  </tbody>\n",
       "</table>\n",
       "<p>483 rows × 2 columns</p>\n",
       "</div>"
      ],
      "text/plain": [
       "     ROC_year  unemployment_rate\n",
       "0        7101               1.36\n",
       "1        7102               1.62\n",
       "2        7103               1.32\n",
       "3        7104               1.49\n",
       "4        7105               1.98\n",
       "..        ...                ...\n",
       "478     11011               3.66\n",
       "479     11012               3.64\n",
       "480     11101               3.61\n",
       "481     11102               3.65\n",
       "482     11103               3.66\n",
       "\n",
       "[483 rows x 2 columns]"
      ]
     },
     "execution_count": 8,
     "metadata": {},
     "output_type": "execute_result"
    }
   ],
   "source": [
    "df"
   ]
  },
  {
   "cell_type": "code",
   "execution_count": 9,
   "id": "73eb904a",
   "metadata": {},
   "outputs": [
    {
     "name": "stdout",
     "output_type": "stream",
     "text": [
      "     ROC_year  unemployment_rate\n",
      "360     10101               4.18\n",
      "     ROC_year  unemployment_rate\n",
      "479     11012               3.64\n"
     ]
    }
   ],
   "source": [
    "print(df[df['ROC_year'] == 10101])\n",
    "print(df[df['ROC_year'] == 11012])"
   ]
  },
  {
   "cell_type": "code",
   "execution_count": 10,
   "id": "a1ca9e38",
   "metadata": {
    "scrolled": true
   },
   "outputs": [],
   "source": [
    "df = df.iloc[360:480,]"
   ]
  },
  {
   "cell_type": "code",
   "execution_count": 11,
   "id": "d552b32f",
   "metadata": {
    "scrolled": true
   },
   "outputs": [
    {
     "data": {
      "text/html": [
       "<div>\n",
       "<style scoped>\n",
       "    .dataframe tbody tr th:only-of-type {\n",
       "        vertical-align: middle;\n",
       "    }\n",
       "\n",
       "    .dataframe tbody tr th {\n",
       "        vertical-align: top;\n",
       "    }\n",
       "\n",
       "    .dataframe thead th {\n",
       "        text-align: right;\n",
       "    }\n",
       "</style>\n",
       "<table border=\"1\" class=\"dataframe\">\n",
       "  <thead>\n",
       "    <tr style=\"text-align: right;\">\n",
       "      <th></th>\n",
       "      <th>ROC_year</th>\n",
       "      <th>unemployment_rate</th>\n",
       "    </tr>\n",
       "  </thead>\n",
       "  <tbody>\n",
       "    <tr>\n",
       "      <th>360</th>\n",
       "      <td>10101</td>\n",
       "      <td>4.18</td>\n",
       "    </tr>\n",
       "    <tr>\n",
       "      <th>361</th>\n",
       "      <td>10102</td>\n",
       "      <td>4.25</td>\n",
       "    </tr>\n",
       "    <tr>\n",
       "      <th>362</th>\n",
       "      <td>10103</td>\n",
       "      <td>4.17</td>\n",
       "    </tr>\n",
       "    <tr>\n",
       "      <th>363</th>\n",
       "      <td>10104</td>\n",
       "      <td>4.10</td>\n",
       "    </tr>\n",
       "    <tr>\n",
       "      <th>364</th>\n",
       "      <td>10105</td>\n",
       "      <td>4.12</td>\n",
       "    </tr>\n",
       "    <tr>\n",
       "      <th>...</th>\n",
       "      <td>...</td>\n",
       "      <td>...</td>\n",
       "    </tr>\n",
       "    <tr>\n",
       "      <th>475</th>\n",
       "      <td>11008</td>\n",
       "      <td>4.24</td>\n",
       "    </tr>\n",
       "    <tr>\n",
       "      <th>476</th>\n",
       "      <td>11009</td>\n",
       "      <td>3.96</td>\n",
       "    </tr>\n",
       "    <tr>\n",
       "      <th>477</th>\n",
       "      <td>11010</td>\n",
       "      <td>3.83</td>\n",
       "    </tr>\n",
       "    <tr>\n",
       "      <th>478</th>\n",
       "      <td>11011</td>\n",
       "      <td>3.66</td>\n",
       "    </tr>\n",
       "    <tr>\n",
       "      <th>479</th>\n",
       "      <td>11012</td>\n",
       "      <td>3.64</td>\n",
       "    </tr>\n",
       "  </tbody>\n",
       "</table>\n",
       "<p>120 rows × 2 columns</p>\n",
       "</div>"
      ],
      "text/plain": [
       "     ROC_year  unemployment_rate\n",
       "360     10101               4.18\n",
       "361     10102               4.25\n",
       "362     10103               4.17\n",
       "363     10104               4.10\n",
       "364     10105               4.12\n",
       "..        ...                ...\n",
       "475     11008               4.24\n",
       "476     11009               3.96\n",
       "477     11010               3.83\n",
       "478     11011               3.66\n",
       "479     11012               3.64\n",
       "\n",
       "[120 rows x 2 columns]"
      ]
     },
     "execution_count": 11,
     "metadata": {},
     "output_type": "execute_result"
    }
   ],
   "source": [
    "df"
   ]
  },
  {
   "cell_type": "code",
   "execution_count": 12,
   "id": "2b5121ce",
   "metadata": {},
   "outputs": [
    {
     "name": "stderr",
     "output_type": "stream",
     "text": [
      "C:\\Users\\Student\\anaconda3\\lib\\site-packages\\pandas\\core\\frame.py:5039: SettingWithCopyWarning: \n",
      "A value is trying to be set on a copy of a slice from a DataFrame\n",
      "\n",
      "See the caveats in the documentation: https://pandas.pydata.org/pandas-docs/stable/user_guide/indexing.html#returning-a-view-versus-a-copy\n",
      "  return super().rename(\n"
     ]
    }
   ],
   "source": [
    "# 轉換成main dataframe一樣的欄位方便合併\n",
    "df.rename(columns = {'ROC_year':'date'}, inplace = True)"
   ]
  },
  {
   "cell_type": "code",
   "execution_count": 13,
   "id": "fc6dedeb",
   "metadata": {},
   "outputs": [],
   "source": [
    "df.to_csv(\"unemployment_rate.csv\", index=False)"
   ]
  },
  {
   "cell_type": "code",
   "execution_count": null,
   "id": "7b27bb69",
   "metadata": {},
   "outputs": [],
   "source": []
  }
 ],
 "metadata": {
  "kernelspec": {
   "display_name": "Python 3 (ipykernel)",
   "language": "python",
   "name": "python3"
  },
  "language_info": {
   "codemirror_mode": {
    "name": "ipython",
    "version": 3
   },
   "file_extension": ".py",
   "mimetype": "text/x-python",
   "name": "python",
   "nbconvert_exporter": "python",
   "pygments_lexer": "ipython3",
   "version": "3.9.7"
  }
 },
 "nbformat": 4,
 "nbformat_minor": 5
}
